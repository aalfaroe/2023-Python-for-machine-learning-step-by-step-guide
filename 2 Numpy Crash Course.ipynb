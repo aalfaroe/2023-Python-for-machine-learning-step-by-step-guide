{
 "cells": [
  {
   "cell_type": "markdown",
   "id": "d423a6df",
   "metadata": {},
   "source": [
    "___\n",
    "<a href='http://www.kgptalkie.com'><img src='kgptalkie_strips.png'/></a>\n",
    "___\n",
    "\n",
    "<center><em>Copyright by KGPTalkie</em></center>\n",
    "<center><em>For free ML tutorials, visit us at <a href='http://www.kgptalkie.com'>www.kgptalkie.com</a></em></center>"
   ]
  },
  {
   "cell_type": "markdown",
   "id": "a5063f2d",
   "metadata": {},
   "source": [
    "# Numpy Crash Course\n",
    "NumPy is a Python library used for working with arrays.\n",
    "\n",
    "It also has functions for working in domain of linear algebra, fourier transform, and matrices."
   ]
  },
  {
   "cell_type": "markdown",
   "id": "206039a3",
   "metadata": {},
   "source": [
    "## Introduction"
   ]
  },
  {
   "cell_type": "code",
   "execution_count": 16,
   "id": "1f9be241",
   "metadata": {},
   "outputs": [],
   "source": [
    "# !pip install numpy"
   ]
  },
  {
   "cell_type": "code",
   "execution_count": 1,
   "id": "59903246",
   "metadata": {},
   "outputs": [],
   "source": [
    "import numpy as np"
   ]
  },
  {
   "cell_type": "code",
   "execution_count": 2,
   "id": "232d1de9",
   "metadata": {},
   "outputs": [
    {
     "data": {
      "text/plain": [
       "'1.21.5'"
      ]
     },
     "execution_count": 2,
     "metadata": {},
     "output_type": "execute_result"
    }
   ],
   "source": [
    "np.__version__"
   ]
  },
  {
   "cell_type": "code",
   "execution_count": 3,
   "id": "44e7d7fa",
   "metadata": {},
   "outputs": [
    {
     "data": {
      "text/plain": [
       "(array([1, 2, 3, 4]), numpy.ndarray, (4,), 1)"
      ]
     },
     "execution_count": 3,
     "metadata": {},
     "output_type": "execute_result"
    }
   ],
   "source": [
    "a = np.array([1,2,3,4])\n",
    "a, type(a), a.shape, a.ndim"
   ]
  },
  {
   "cell_type": "code",
   "execution_count": 4,
   "id": "ee7a33d6",
   "metadata": {},
   "outputs": [
    {
     "data": {
      "text/plain": [
       "(array([1, 2, 3, 4]), numpy.ndarray, (4,), 1)"
      ]
     },
     "execution_count": 4,
     "metadata": {},
     "output_type": "execute_result"
    }
   ],
   "source": [
    "a = np.array((1,2,3,4))\n",
    "a, type(a), a.shape, a.ndim"
   ]
  },
  {
   "cell_type": "code",
   "execution_count": 5,
   "id": "a3a6c9b4",
   "metadata": {},
   "outputs": [
    {
     "data": {
      "text/plain": [
       "(array(2), numpy.ndarray, (), 0)"
      ]
     },
     "execution_count": 5,
     "metadata": {},
     "output_type": "execute_result"
    }
   ],
   "source": [
    "#0-dim\n",
    "a = np.array(2)\n",
    "a, type(a), a.shape, a.ndim"
   ]
  },
  {
   "cell_type": "code",
   "execution_count": 6,
   "id": "30635b61",
   "metadata": {},
   "outputs": [
    {
     "data": {
      "text/plain": [
       "(array([[1, 2, 3, 4],\n",
       "        [1, 2, 3, 4]]),\n",
       " (2, 4),\n",
       " 2)"
      ]
     },
     "execution_count": 6,
     "metadata": {},
     "output_type": "execute_result"
    }
   ],
   "source": [
    "#2-d\n",
    "a = np.array([[1, 2, 3, 4],[1, 2, 3, 4]])\n",
    "a, a.shape, a.ndim"
   ]
  },
  {
   "cell_type": "code",
   "execution_count": 7,
   "id": "b232c9af",
   "metadata": {},
   "outputs": [
    {
     "data": {
      "text/plain": [
       "(array([[[1, 2, 3, 4],\n",
       "         [1, 2, 3, 4]],\n",
       " \n",
       "        [[1, 2, 3, 4],\n",
       "         [1, 2, 3, 4]]]),\n",
       " (2, 2, 4),\n",
       " 3,\n",
       " 3)"
      ]
     },
     "execution_count": 7,
     "metadata": {},
     "output_type": "execute_result"
    }
   ],
   "source": [
    "#3-d -> list/vector of 2d list/vector\n",
    "a = np.array([[[1, 2, 3, 4],[1, 2, 3, 4]],\n",
    "              [[1, 2, 3, 4],[1, 2, 3, 4]]])\n",
    "a, a.shape, a.ndim, len(a.shape)"
   ]
  },
  {
   "cell_type": "markdown",
   "id": "b407b777",
   "metadata": {},
   "source": [
    "## Array Indexing and Slicing"
   ]
  },
  {
   "cell_type": "code",
   "execution_count": 8,
   "id": "b4df62f6",
   "metadata": {},
   "outputs": [
    {
     "data": {
      "text/plain": [
       "2"
      ]
     },
     "execution_count": 8,
     "metadata": {},
     "output_type": "execute_result"
    }
   ],
   "source": [
    "a = np.array([1,2,3,4])\n",
    "a[-3]"
   ]
  },
  {
   "cell_type": "code",
   "execution_count": 9,
   "id": "eadd9305",
   "metadata": {},
   "outputs": [
    {
     "data": {
      "text/plain": [
       "array([[1, 2, 3, 4],\n",
       "       [5, 6, 7, 8]])"
      ]
     },
     "execution_count": 9,
     "metadata": {},
     "output_type": "execute_result"
    }
   ],
   "source": [
    "a = np.array([[1, 2, 3, 4],[5, 6, 7, 8]])\n",
    "a"
   ]
  },
  {
   "cell_type": "code",
   "execution_count": 10,
   "id": "39912109",
   "metadata": {},
   "outputs": [
    {
     "data": {
      "text/plain": [
       "1"
      ]
     },
     "execution_count": 10,
     "metadata": {},
     "output_type": "execute_result"
    }
   ],
   "source": [
    "a[0,0]\n",
    "a[0][0]"
   ]
  },
  {
   "cell_type": "code",
   "execution_count": 11,
   "id": "41e84d83",
   "metadata": {},
   "outputs": [
    {
     "data": {
      "text/plain": [
       "(4, 4)"
      ]
     },
     "execution_count": 11,
     "metadata": {},
     "output_type": "execute_result"
    }
   ],
   "source": [
    "a[0][-1], a[0,-1]\n"
   ]
  },
  {
   "cell_type": "code",
   "execution_count": 12,
   "id": "795d907e",
   "metadata": {},
   "outputs": [
    {
     "data": {
      "text/plain": [
       "(2, 2, 4)"
      ]
     },
     "execution_count": 12,
     "metadata": {},
     "output_type": "execute_result"
    }
   ],
   "source": [
    "a = np.array([[[1, 2, 3, 4],[11, 22, 33, 44]],\n",
    "              [[10, 20, 30, 40],[100, 200, 300, 400]]])\n",
    "\n",
    "a.shape"
   ]
  },
  {
   "cell_type": "code",
   "execution_count": 13,
   "id": "17a9a029",
   "metadata": {},
   "outputs": [
    {
     "data": {
      "text/plain": [
       "(40, 40)"
      ]
     },
     "execution_count": 13,
     "metadata": {},
     "output_type": "execute_result"
    }
   ],
   "source": [
    "a[1][0][3], a[1][0][-1]"
   ]
  },
  {
   "cell_type": "code",
   "execution_count": 14,
   "id": "bab7674d",
   "metadata": {},
   "outputs": [
    {
     "data": {
      "text/plain": [
       "array([[ 20,  30],\n",
       "       [200, 300]])"
      ]
     },
     "execution_count": 14,
     "metadata": {},
     "output_type": "execute_result"
    }
   ],
   "source": [
    "a[1, :, 1:3]"
   ]
  },
  {
   "cell_type": "markdown",
   "id": "532114b8",
   "metadata": {},
   "source": [
    "## Data Types "
   ]
  },
  {
   "attachments": {
    "image.png": {
     "image/png": "[encoded data removed]"
    }
   },
   "cell_type": "markdown",
   "id": "fae283e7",
   "metadata": {},
   "source": [
    "![image.png](attachment:image.png)"
   ]
  },
  {
   "cell_type": "code",
   "execution_count": 15,
   "id": "04150a79",
   "metadata": {},
   "outputs": [
    {
     "data": {
      "text/plain": [
       "(array([1., 2., 3., 4.]), dtype('float64'))"
      ]
     },
     "execution_count": 15,
     "metadata": {},
     "output_type": "execute_result"
    }
   ],
   "source": [
    "a = np.array([1, 2, 3, 4.0])\n",
    "a, a.dtype"
   ]
  },
  {
   "cell_type": "code",
   "execution_count": 16,
   "id": "7a67a24d",
   "metadata": {},
   "outputs": [
    {
     "data": {
      "text/plain": [
       "array(['apple', 'bananas'], dtype='<U7')"
      ]
     },
     "execution_count": 16,
     "metadata": {},
     "output_type": "execute_result"
    }
   ],
   "source": [
    "a = np.array(['apple', 'bananas'])\n",
    "a"
   ]
  },
  {
   "cell_type": "code",
   "execution_count": 17,
   "id": "cbe2e7a9",
   "metadata": {},
   "outputs": [
    {
     "data": {
      "text/plain": [
       "array([b'apple', b'bananas'], dtype='|S7')"
      ]
     },
     "execution_count": 17,
     "metadata": {},
     "output_type": "execute_result"
    }
   ],
   "source": [
    "a = np.array(['apple', 'bananas'], dtype='S')\n",
    "a"
   ]
  },
  {
   "cell_type": "code",
   "execution_count": 18,
   "id": "ca5be298",
   "metadata": {},
   "outputs": [
    {
     "data": {
      "text/plain": [
       "(array([0., 1.], dtype=float32), dtype('float32'))"
      ]
     },
     "execution_count": 18,
     "metadata": {},
     "output_type": "execute_result"
    }
   ],
   "source": [
    "a = np.array(['0', '1'], dtype='f')\n",
    "a, a.dtype"
   ]
  },
  {
   "cell_type": "code",
   "execution_count": 19,
   "id": "78bb2d81",
   "metadata": {},
   "outputs": [
    {
     "data": {
      "text/plain": [
       "(array([0. , 1.1], dtype=float32), dtype('float32'))"
      ]
     },
     "execution_count": 19,
     "metadata": {},
     "output_type": "execute_result"
    }
   ],
   "source": [
    "a = np.array(['0.0', '1.1'], dtype='f')\n",
    "a, a.dtype"
   ]
  },
  {
   "cell_type": "code",
   "execution_count": 20,
   "id": "8110ecaf",
   "metadata": {},
   "outputs": [],
   "source": [
    "b = a.astype('i')"
   ]
  },
  {
   "cell_type": "code",
   "execution_count": 21,
   "id": "386d3cdf",
   "metadata": {},
   "outputs": [
    {
     "data": {
      "text/plain": [
       "array(['0', '1'], dtype='<U11')"
      ]
     },
     "execution_count": 21,
     "metadata": {},
     "output_type": "execute_result"
    }
   ],
   "source": [
    "b.astype('str')"
   ]
  },
  {
   "cell_type": "code",
   "execution_count": 22,
   "id": "2f4c73c8",
   "metadata": {},
   "outputs": [
    {
     "data": {
      "text/plain": [
       "array([  1,  12,  22,  42, 341])"
      ]
     },
     "execution_count": 22,
     "metadata": {},
     "output_type": "execute_result"
    }
   ],
   "source": [
    "a = np.array([1,22, 341, 12, 42])\n",
    "a.sort()\n",
    "a"
   ]
  },
  {
   "cell_type": "code",
   "execution_count": 23,
   "id": "12582c94",
   "metadata": {},
   "outputs": [
    {
     "data": {
      "text/plain": [
       "array([341,  42,  22,  12,   1])"
      ]
     },
     "execution_count": 23,
     "metadata": {},
     "output_type": "execute_result"
    }
   ],
   "source": [
    "-np.sort(-a)"
   ]
  },
  {
   "cell_type": "markdown",
   "id": "98320f4e",
   "metadata": {},
   "source": [
    "## `np.nan` and `np.inf`  "
   ]
  },
  {
   "cell_type": "code",
   "execution_count": 26,
   "id": "962bbf15",
   "metadata": {},
   "outputs": [
    {
     "data": {
      "text/plain": [
       "(nan, nan)"
      ]
     },
     "execution_count": 26,
     "metadata": {},
     "output_type": "execute_result"
    }
   ],
   "source": [
    "np.nan==np.nan\n",
    "a = np.nan\n",
    "b = np.nan\n",
    "a,b"
   ]
  },
  {
   "cell_type": "code",
   "execution_count": 29,
   "id": "68dc135e",
   "metadata": {},
   "outputs": [
    {
     "data": {
      "text/plain": [
       "(False, False, False)"
      ]
     },
     "execution_count": 29,
     "metadata": {},
     "output_type": "execute_result"
    }
   ],
   "source": [
    "a==b, a>b, a<b"
   ]
  },
  {
   "cell_type": "code",
   "execution_count": 30,
   "id": "0beb140f",
   "metadata": {},
   "outputs": [
    {
     "data": {
      "text/plain": [
       "(inf, inf)"
      ]
     },
     "execution_count": 30,
     "metadata": {},
     "output_type": "execute_result"
    }
   ],
   "source": [
    "a = np.inf\n",
    "b = np.inf\n",
    "a,b"
   ]
  },
  {
   "cell_type": "code",
   "execution_count": 32,
   "id": "f3560591",
   "metadata": {},
   "outputs": [
    {
     "data": {
      "text/plain": [
       "(True, False)"
      ]
     },
     "execution_count": 32,
     "metadata": {},
     "output_type": "execute_result"
    }
   ],
   "source": [
    "a==b, a>b"
   ]
  },
  {
   "cell_type": "code",
   "execution_count": 34,
   "id": "cdfa3f7d",
   "metadata": {},
   "outputs": [
    {
     "data": {
      "text/plain": [
       "(None, NoneType)"
      ]
     },
     "execution_count": 34,
     "metadata": {},
     "output_type": "execute_result"
    }
   ],
   "source": [
    "None, type(None)"
   ]
  },
  {
   "cell_type": "code",
   "execution_count": 38,
   "id": "bb3e4039",
   "metadata": {},
   "outputs": [
    {
     "data": {
      "text/plain": [
       "True"
      ]
     },
     "execution_count": 38,
     "metadata": {},
     "output_type": "execute_result"
    }
   ],
   "source": [
    "None==None"
   ]
  },
  {
   "cell_type": "code",
   "execution_count": 43,
   "id": "d2e0a1e7",
   "metadata": {},
   "outputs": [
    {
     "data": {
      "text/plain": [
       "((2, 3), dtype('float64'))"
      ]
     },
     "execution_count": 43,
     "metadata": {},
     "output_type": "execute_result"
    }
   ],
   "source": [
    "a = np.array([[1,2,3], [4,5,6]], dtype='float')\n",
    "a.shape, a.dtype"
   ]
  },
  {
   "cell_type": "code",
   "execution_count": 44,
   "id": "8b005242",
   "metadata": {},
   "outputs": [],
   "source": [
    "a[0][1] = np.nan\n",
    "a[0][2] = np.inf"
   ]
  },
  {
   "cell_type": "code",
   "execution_count": 45,
   "id": "f6e5897c",
   "metadata": {},
   "outputs": [
    {
     "data": {
      "text/plain": [
       "array([[ 1., nan, inf],\n",
       "       [ 4.,  5.,  6.]])"
      ]
     },
     "execution_count": 45,
     "metadata": {},
     "output_type": "execute_result"
    }
   ],
   "source": [
    "a"
   ]
  },
  {
   "cell_type": "code",
   "execution_count": 46,
   "id": "45d68d9c",
   "metadata": {},
   "outputs": [
    {
     "data": {
      "text/plain": [
       "array([[False,  True, False],\n",
       "       [False, False, False]])"
      ]
     },
     "execution_count": 46,
     "metadata": {},
     "output_type": "execute_result"
    }
   ],
   "source": [
    "np.isnan(a)"
   ]
  },
  {
   "cell_type": "code",
   "execution_count": 47,
   "id": "eb77a610",
   "metadata": {},
   "outputs": [
    {
     "data": {
      "text/plain": [
       "array([[False, False,  True],\n",
       "       [False, False, False]])"
      ]
     },
     "execution_count": 47,
     "metadata": {},
     "output_type": "execute_result"
    }
   ],
   "source": [
    "np.isinf(a)"
   ]
  },
  {
   "cell_type": "markdown",
   "id": "55d77fe0",
   "metadata": {},
   "source": [
    "## Statistical Operations\n",
    "mean, var, std, med"
   ]
  },
  {
   "cell_type": "code",
   "execution_count": 48,
   "id": "34d3bfd4",
   "metadata": {},
   "outputs": [
    {
     "data": {
      "text/plain": [
       "array([1, 2, 3, 4, 5, 6, 7])"
      ]
     },
     "execution_count": 48,
     "metadata": {},
     "output_type": "execute_result"
    }
   ],
   "source": [
    "a = np.array([1,2,3,4,5,6,7])\n",
    "a"
   ]
  },
  {
   "cell_type": "code",
   "execution_count": 51,
   "id": "d10cf1f8",
   "metadata": {},
   "outputs": [
    {
     "data": {
      "text/plain": [
       "(4.0, 4.0, 4.0)"
      ]
     },
     "execution_count": 51,
     "metadata": {},
     "output_type": "execute_result"
    }
   ],
   "source": [
    "a.mean(), np.mean(a), np.mean([1, 2, 3, 4, 5, 6, 7])"
   ]
  },
  {
   "cell_type": "code",
   "execution_count": 57,
   "id": "467fedbf",
   "metadata": {},
   "outputs": [
    {
     "data": {
      "text/plain": [
       "(4.0, 2.0, 4.0)"
      ]
     },
     "execution_count": 57,
     "metadata": {},
     "output_type": "execute_result"
    }
   ],
   "source": [
    "a.var(), a.std(), np.median(a)"
   ]
  },
  {
   "cell_type": "code",
   "execution_count": 58,
   "id": "88321808",
   "metadata": {},
   "outputs": [
    {
     "data": {
      "text/plain": [
       "array([[ 1,  2,  3,  4,  5,  6,  7],\n",
       "       [11, 22, 33, 44, 55, 66, 77]])"
      ]
     },
     "execution_count": 58,
     "metadata": {},
     "output_type": "execute_result"
    }
   ],
   "source": [
    "a = np.array([[1,2,3,4,5,6,7], [11,22,33,44,55,66,77]])\n",
    "a"
   ]
  },
  {
   "cell_type": "code",
   "execution_count": 63,
   "id": "a4a995ac",
   "metadata": {},
   "outputs": [
    {
     "data": {
      "text/plain": [
       "(24.0, 24.0, 9.0, 644.0, 25.37715508089904)"
      ]
     },
     "execution_count": 63,
     "metadata": {},
     "output_type": "execute_result"
    }
   ],
   "source": [
    "a.mean(), np.mean(a), np.median(a), a.var(), a.std()"
   ]
  },
  {
   "cell_type": "markdown",
   "id": "7a7235d5",
   "metadata": {},
   "source": [
    "## Shape(), Reshape(), Ravel(), Flatten()"
   ]
  },
  {
   "cell_type": "code",
   "execution_count": 64,
   "id": "a04159da",
   "metadata": {},
   "outputs": [
    {
     "data": {
      "text/plain": [
       "array([[ 1,  2,  3,  4,  5,  6,  7],\n",
       "       [11, 22, 33, 44, 55, 66, 77]])"
      ]
     },
     "execution_count": 64,
     "metadata": {},
     "output_type": "execute_result"
    }
   ],
   "source": [
    "a"
   ]
  },
  {
   "cell_type": "code",
   "execution_count": 66,
   "id": "c70da14e",
   "metadata": {},
   "outputs": [
    {
     "data": {
      "text/plain": [
       "(2, (2, 7))"
      ]
     },
     "execution_count": 66,
     "metadata": {},
     "output_type": "execute_result"
    }
   ],
   "source": [
    "a.ndim, a.shape"
   ]
  },
  {
   "cell_type": "code",
   "execution_count": 69,
   "id": "634604c3",
   "metadata": {},
   "outputs": [
    {
     "data": {
      "text/plain": [
       "array([[ 1,  2,  3,  4,  5,  6,  7, 11, 22, 33, 44, 55, 66, 77]])"
      ]
     },
     "execution_count": 69,
     "metadata": {},
     "output_type": "execute_result"
    }
   ],
   "source": [
    "a.reshape(1,-1)"
   ]
  },
  {
   "cell_type": "code",
   "execution_count": 70,
   "id": "45972281",
   "metadata": {},
   "outputs": [
    {
     "data": {
      "text/plain": [
       "array([ 1,  2,  3,  4,  5,  6,  7, 11, 22, 33, 44, 55, 66, 77])"
      ]
     },
     "execution_count": 70,
     "metadata": {},
     "output_type": "execute_result"
    }
   ],
   "source": [
    "a.ravel()"
   ]
  },
  {
   "cell_type": "code",
   "execution_count": 71,
   "id": "9be77fbd",
   "metadata": {},
   "outputs": [
    {
     "data": {
      "text/plain": [
       "array([ 1,  2,  3,  4,  5,  6,  7, 11, 22, 33, 44, 55, 66, 77])"
      ]
     },
     "execution_count": 71,
     "metadata": {},
     "output_type": "execute_result"
    }
   ],
   "source": [
    "a.flatten()"
   ]
  },
  {
   "cell_type": "markdown",
   "id": "855c489a",
   "metadata": {},
   "source": [
    "## arange(), linspace(), range(), random(), zeros(), and ones() "
   ]
  },
  {
   "cell_type": "code",
   "execution_count": 79,
   "id": "777c11dc",
   "metadata": {},
   "outputs": [
    {
     "data": {
      "text/plain": [
       "array([ 1.,  2.,  3.,  4.,  5.,  6.,  7.,  8.,  9., 10.])"
      ]
     },
     "execution_count": 79,
     "metadata": {},
     "output_type": "execute_result"
    }
   ],
   "source": [
    "np.arange(1,11, dtype='float')"
   ]
  },
  {
   "cell_type": "code",
   "execution_count": 82,
   "id": "7446aca7",
   "metadata": {},
   "outputs": [
    {
     "data": {
      "text/plain": [
       "array([1., 6.])"
      ]
     },
     "execution_count": 82,
     "metadata": {},
     "output_type": "execute_result"
    }
   ],
   "source": [
    "np.arange(1,11,5, dtype='float')"
   ]
  },
  {
   "cell_type": "code",
   "execution_count": 86,
   "id": "1368fcda",
   "metadata": {},
   "outputs": [
    {
     "data": {
      "text/plain": [
       "array([ 1,  3,  6,  8, 11])"
      ]
     },
     "execution_count": 86,
     "metadata": {},
     "output_type": "execute_result"
    }
   ],
   "source": [
    "np.linspace(1,11,5, dtype='int')"
   ]
  },
  {
   "cell_type": "code",
   "execution_count": null,
   "id": "ea09837a",
   "metadata": {},
   "outputs": [],
   "source": []
  },
  {
   "cell_type": "code",
   "execution_count": 88,
   "id": "1d735e0e",
   "metadata": {},
   "outputs": [],
   "source": [
    "from numpy import random"
   ]
  },
  {
   "cell_type": "code",
   "execution_count": 136,
   "id": "30e4e6e5",
   "metadata": {},
   "outputs": [
    {
     "data": {
      "text/plain": [
       "5.45"
      ]
     },
     "execution_count": 136,
     "metadata": {},
     "output_type": "execute_result"
    }
   ],
   "source": [
    "random.randint(1,1000)"
   ]
  },
  {
   "cell_type": "code",
   "execution_count": 139,
   "id": "6af16194",
   "metadata": {},
   "outputs": [
    {
     "data": {
      "text/plain": [
       "array([1, 2, 3, 4, 5, 6, 7, 8, 9])"
      ]
     },
     "execution_count": 139,
     "metadata": {},
     "output_type": "execute_result"
    }
   ],
   "source": [
    "np.array(range(1,10))"
   ]
  },
  {
   "cell_type": "code",
   "execution_count": 142,
   "id": "3520b221",
   "metadata": {},
   "outputs": [
    {
     "data": {
      "text/plain": [
       "array([[0., 0., 0., 0., 0.],\n",
       "       [0., 0., 0., 0., 0.],\n",
       "       [0., 0., 0., 0., 0.],\n",
       "       [0., 0., 0., 0., 0.],\n",
       "       [0., 0., 0., 0., 0.]])"
      ]
     },
     "execution_count": 142,
     "metadata": {},
     "output_type": "execute_result"
    }
   ],
   "source": [
    "np.zeros([5,5])"
   ]
  },
  {
   "cell_type": "code",
   "execution_count": 147,
   "id": "3a94e2de",
   "metadata": {},
   "outputs": [
    {
     "data": {
      "text/plain": [
       "(5, 5, 4)"
      ]
     },
     "execution_count": 147,
     "metadata": {},
     "output_type": "execute_result"
    }
   ],
   "source": [
    "np.ones([5, 5, 4]).shape"
   ]
  },
  {
   "cell_type": "code",
   "execution_count": 151,
   "id": "090256f7",
   "metadata": {},
   "outputs": [
    {
     "data": {
      "text/plain": [
       "array([1, 2, 3, 1, 2, 3])"
      ]
     },
     "execution_count": 151,
     "metadata": {},
     "output_type": "execute_result"
    }
   ],
   "source": [
    "np.tile([1,2,3], 2)\n"
   ]
  },
  {
   "cell_type": "code",
   "execution_count": 154,
   "id": "cc99b662",
   "metadata": {},
   "outputs": [
    {
     "data": {
      "text/plain": [
       "array([1, 1, 2, 2, 3, 3])"
      ]
     },
     "execution_count": 154,
     "metadata": {},
     "output_type": "execute_result"
    }
   ],
   "source": [
    "np.repeat([1,2,3], 2)"
   ]
  },
  {
   "cell_type": "markdown",
   "id": "3e90cc3d",
   "metadata": {},
   "source": [
    "## Where "
   ]
  },
  {
   "cell_type": "code",
   "execution_count": 155,
   "id": "4c4f95d2",
   "metadata": {},
   "outputs": [
    {
     "data": {
      "text/plain": [
       "array([[ 1,  2,  3,  4,  5,  6,  7],\n",
       "       [11, 22, 33, 44, 55, 66, 77]])"
      ]
     },
     "execution_count": 155,
     "metadata": {},
     "output_type": "execute_result"
    }
   ],
   "source": [
    "a"
   ]
  },
  {
   "cell_type": "code",
   "execution_count": 166,
   "id": "07753347",
   "metadata": {},
   "outputs": [],
   "source": [
    "index = np.where(a<10)"
   ]
  },
  {
   "cell_type": "code",
   "execution_count": 168,
   "id": "11efa116",
   "metadata": {},
   "outputs": [
    {
     "data": {
      "text/plain": [
       "array([1, 2, 3, 4, 5, 6, 7])"
      ]
     },
     "execution_count": 168,
     "metadata": {},
     "output_type": "execute_result"
    }
   ],
   "source": [
    "b = a[index]\n",
    "b"
   ]
  },
  {
   "cell_type": "code",
   "execution_count": 169,
   "id": "03462ee4",
   "metadata": {},
   "outputs": [
    {
     "data": {
      "text/plain": [
       "array([6, 7])"
      ]
     },
     "execution_count": 169,
     "metadata": {},
     "output_type": "execute_result"
    }
   ],
   "source": [
    "index = np.where(b>5)\n",
    "b[index]"
   ]
  },
  {
   "cell_type": "code",
   "execution_count": null,
   "id": "d28f767d",
   "metadata": {},
   "outputs": [],
   "source": []
  },
  {
   "cell_type": "code",
   "execution_count": 170,
   "id": "a2d4431c",
   "metadata": {},
   "outputs": [
    {
     "data": {
      "text/plain": [
       "array([[ 1,  2,  3,  4,  5,  6,  7],\n",
       "       [11, 22, 33, 44,  0,  0,  0]])"
      ]
     },
     "execution_count": 170,
     "metadata": {},
     "output_type": "execute_result"
    }
   ],
   "source": [
    "np.where(a>50, 0, a)"
   ]
  },
  {
   "cell_type": "code",
   "execution_count": 172,
   "id": "43106b1f",
   "metadata": {},
   "outputs": [
    {
     "data": {
      "text/plain": [
       "13"
      ]
     },
     "execution_count": 172,
     "metadata": {},
     "output_type": "execute_result"
    }
   ],
   "source": [
    "a.argmax()"
   ]
  },
  {
   "cell_type": "code",
   "execution_count": 176,
   "id": "9a7136ef",
   "metadata": {},
   "outputs": [
    {
     "data": {
      "text/plain": [
       "(77, 77)"
      ]
     },
     "execution_count": 176,
     "metadata": {},
     "output_type": "execute_result"
    }
   ],
   "source": [
    "a.flatten()[13], a.max()"
   ]
  },
  {
   "cell_type": "code",
   "execution_count": 177,
   "id": "3243ac36",
   "metadata": {},
   "outputs": [
    {
     "data": {
      "text/plain": [
       "0"
      ]
     },
     "execution_count": 177,
     "metadata": {},
     "output_type": "execute_result"
    }
   ],
   "source": [
    "a.argmin()"
   ]
  },
  {
   "cell_type": "code",
   "execution_count": 178,
   "id": "657e6f71",
   "metadata": {},
   "outputs": [
    {
     "data": {
      "text/plain": [
       "(1, 1)"
      ]
     },
     "execution_count": 178,
     "metadata": {},
     "output_type": "execute_result"
    }
   ],
   "source": [
    "a.flatten()[0], a.min()"
   ]
  },
  {
   "cell_type": "markdown",
   "id": "4d762d0d",
   "metadata": {},
   "source": [
    "## Numpy Array Read and Write "
   ]
  },
  {
   "cell_type": "code",
   "execution_count": 179,
   "id": "451c5018",
   "metadata": {},
   "outputs": [
    {
     "data": {
      "text/plain": [
       "array([[ 1,  2,  3,  4,  5,  6,  7],\n",
       "       [11, 22, 33, 44, 55, 66, 77]])"
      ]
     },
     "execution_count": 179,
     "metadata": {},
     "output_type": "execute_result"
    }
   ],
   "source": [
    "a"
   ]
  },
  {
   "cell_type": "code",
   "execution_count": 180,
   "id": "189c5b8a",
   "metadata": {},
   "outputs": [],
   "source": [
    "np.save('data/a.npy', a)"
   ]
  },
  {
   "cell_type": "code",
   "execution_count": 181,
   "id": "b4dee501",
   "metadata": {},
   "outputs": [],
   "source": [
    "np.savetxt('data/a.csv', a, delimiter=',')"
   ]
  },
  {
   "cell_type": "code",
   "execution_count": 184,
   "id": "f666ee3c",
   "metadata": {},
   "outputs": [
    {
     "data": {
      "text/plain": [
       "(3, (2, 2, 7))"
      ]
     },
     "execution_count": 184,
     "metadata": {},
     "output_type": "execute_result"
    }
   ],
   "source": [
    "b = np.array([a, a])\n",
    "b.ndim, b.shape"
   ]
  },
  {
   "cell_type": "code",
   "execution_count": 186,
   "id": "7ed343a4",
   "metadata": {},
   "outputs": [],
   "source": [
    "np.save('data/b.npy', b)"
   ]
  },
  {
   "cell_type": "code",
   "execution_count": null,
   "id": "48f95f29",
   "metadata": {},
   "outputs": [],
   "source": []
  },
  {
   "cell_type": "code",
   "execution_count": 189,
   "id": "35c3edcd",
   "metadata": {},
   "outputs": [
    {
     "data": {
      "text/plain": [
       "array([[ 1.,  2.,  3.,  4.,  5.,  6.,  7.],\n",
       "       [11., 22., 33., 44., 55., 66., 77.]])"
      ]
     },
     "execution_count": 189,
     "metadata": {},
     "output_type": "execute_result"
    }
   ],
   "source": [
    "aa = np.loadtxt('data/a.csv', delimiter=',')\n",
    "aa"
   ]
  },
  {
   "cell_type": "code",
   "execution_count": 190,
   "id": "b63829a3",
   "metadata": {},
   "outputs": [
    {
     "data": {
      "text/plain": [
       "array([[ 1,  2,  3,  4,  5,  6,  7],\n",
       "       [11, 22, 33, 44, 55, 66, 77]])"
      ]
     },
     "execution_count": 190,
     "metadata": {},
     "output_type": "execute_result"
    }
   ],
   "source": [
    "np.load('data/a.npy')"
   ]
  },
  {
   "cell_type": "code",
   "execution_count": 192,
   "id": "587131f6",
   "metadata": {},
   "outputs": [
    {
     "data": {
      "text/plain": [
       "(2, 2, 7)"
      ]
     },
     "execution_count": 192,
     "metadata": {},
     "output_type": "execute_result"
    }
   ],
   "source": [
    "np.load('data/b.npy').shape"
   ]
  },
  {
   "cell_type": "code",
   "execution_count": 193,
   "id": "8856a9a6",
   "metadata": {},
   "outputs": [],
   "source": [
    "np.savez('data/a.npz', a, b)"
   ]
  },
  {
   "cell_type": "code",
   "execution_count": 195,
   "id": "11da3fb3",
   "metadata": {},
   "outputs": [],
   "source": [
    "d = np.load('data/a.npz')"
   ]
  },
  {
   "cell_type": "code",
   "execution_count": 198,
   "id": "c166a5e9",
   "metadata": {},
   "outputs": [
    {
     "data": {
      "text/plain": [
       "['arr_0', 'arr_1']"
      ]
     },
     "execution_count": 198,
     "metadata": {},
     "output_type": "execute_result"
    }
   ],
   "source": [
    "d.files"
   ]
  },
  {
   "cell_type": "code",
   "execution_count": 200,
   "id": "4135e7f1",
   "metadata": {},
   "outputs": [
    {
     "data": {
      "text/plain": [
       "(array([[ 1,  2,  3,  4,  5,  6,  7],\n",
       "        [11, 22, 33, 44, 55, 66, 77]]),\n",
       " array([[[ 1,  2,  3,  4,  5,  6,  7],\n",
       "         [11, 22, 33, 44, 55, 66, 77]],\n",
       " \n",
       "        [[ 1,  2,  3,  4,  5,  6,  7],\n",
       "         [11, 22, 33, 44, 55, 66, 77]]]))"
      ]
     },
     "execution_count": 200,
     "metadata": {},
     "output_type": "execute_result"
    }
   ],
   "source": [
    "d['arr_0'], d['arr_1']"
   ]
  },
  {
   "cell_type": "markdown",
   "id": "0f7afcfc",
   "metadata": {},
   "source": [
    "## Concatenate and Sorting "
   ]
  },
  {
   "cell_type": "code",
   "execution_count": 207,
   "id": "e16e47bb",
   "metadata": {},
   "outputs": [
    {
     "data": {
      "text/plain": [
       "(array([[ 1,  2,  3,  4,  5,  6,  7],\n",
       "        [11, 22, 33, 44, 55, 66, 77]]),\n",
       " (2, 7))"
      ]
     },
     "execution_count": 207,
     "metadata": {},
     "output_type": "execute_result"
    }
   ],
   "source": [
    "a, a.shape"
   ]
  },
  {
   "cell_type": "code",
   "execution_count": 208,
   "id": "67fbbc63",
   "metadata": {},
   "outputs": [],
   "source": [
    "a = np.array([1,2,3,4])\n",
    "b = np.array([3, 4, 5, 6])\n",
    "c = np.array([32, 12, 4, 1])"
   ]
  },
  {
   "cell_type": "code",
   "execution_count": 216,
   "id": "507f7c0e",
   "metadata": {},
   "outputs": [],
   "source": [
    "x = np.concatenate([a,b,c], axis=-1)"
   ]
  },
  {
   "cell_type": "code",
   "execution_count": 218,
   "id": "780e9fd4",
   "metadata": {},
   "outputs": [],
   "source": [
    "x.sort()"
   ]
  },
  {
   "cell_type": "code",
   "execution_count": 219,
   "id": "aa2f9d58",
   "metadata": {},
   "outputs": [
    {
     "data": {
      "text/plain": [
       "array([ 1,  1,  2,  3,  3,  4,  4,  4,  5,  6, 12, 32])"
      ]
     },
     "execution_count": 219,
     "metadata": {},
     "output_type": "execute_result"
    }
   ],
   "source": [
    "x"
   ]
  },
  {
   "cell_type": "code",
   "execution_count": 221,
   "id": "7aeced97",
   "metadata": {},
   "outputs": [],
   "source": [
    "b = np.array([a, c])"
   ]
  },
  {
   "cell_type": "code",
   "execution_count": 224,
   "id": "07318bb5",
   "metadata": {},
   "outputs": [
    {
     "data": {
      "text/plain": [
       "array([[ 1,  2,  3,  4],\n",
       "       [32, 12,  4,  1]])"
      ]
     },
     "execution_count": 224,
     "metadata": {},
     "output_type": "execute_result"
    }
   ],
   "source": [
    "b"
   ]
  },
  {
   "cell_type": "code",
   "execution_count": 226,
   "id": "a3b416a1",
   "metadata": {},
   "outputs": [],
   "source": [
    "a = np.array([a,c])"
   ]
  },
  {
   "cell_type": "code",
   "execution_count": 228,
   "id": "fe2f196f",
   "metadata": {},
   "outputs": [
    {
     "data": {
      "text/plain": [
       "(array([[ 1,  2,  3,  4],\n",
       "        [32, 12,  4,  1]]),\n",
       " array([[ 1,  2,  3,  4],\n",
       "        [32, 12,  4,  1]]))"
      ]
     },
     "execution_count": 228,
     "metadata": {},
     "output_type": "execute_result"
    }
   ],
   "source": [
    "a,b"
   ]
  },
  {
   "cell_type": "code",
   "execution_count": 230,
   "id": "d5b70b7e",
   "metadata": {},
   "outputs": [],
   "source": [
    "x = np.concatenate([a,b])"
   ]
  },
  {
   "cell_type": "code",
   "execution_count": 235,
   "id": "060899d4",
   "metadata": {},
   "outputs": [
    {
     "data": {
      "text/plain": [
       "array([[ 1,  2,  3,  4],\n",
       "       [32, 12,  4,  1],\n",
       "       [ 1,  2,  3,  4],\n",
       "       [32, 12,  4,  1]])"
      ]
     },
     "execution_count": 235,
     "metadata": {},
     "output_type": "execute_result"
    }
   ],
   "source": [
    "x"
   ]
  },
  {
   "cell_type": "code",
   "execution_count": 237,
   "id": "91ff157b",
   "metadata": {},
   "outputs": [
    {
     "data": {
      "text/plain": [
       "array([[ 1,  2,  3,  4],\n",
       "       [32, 12,  4,  1]])"
      ]
     },
     "execution_count": 237,
     "metadata": {},
     "output_type": "execute_result"
    }
   ],
   "source": [
    "a"
   ]
  },
  {
   "cell_type": "code",
   "execution_count": 236,
   "id": "dde77079",
   "metadata": {},
   "outputs": [
    {
     "data": {
      "text/plain": [
       "array([[ 1,  2,  3,  4,  1,  2,  3,  4],\n",
       "       [32, 12,  4,  1, 32, 12,  4,  1]])"
      ]
     },
     "execution_count": 236,
     "metadata": {},
     "output_type": "execute_result"
    }
   ],
   "source": [
    "np.concatenate([a,b], axis=1)"
   ]
  },
  {
   "cell_type": "code",
   "execution_count": null,
   "id": "59443532",
   "metadata": {},
   "outputs": [],
   "source": []
  },
  {
   "cell_type": "code",
   "execution_count": 238,
   "id": "8916b19c",
   "metadata": {},
   "outputs": [
    {
     "data": {
      "text/plain": [
       "array([[ 1,  2,  3,  4],\n",
       "       [32, 12,  4,  1],\n",
       "       [ 1,  2,  3,  4],\n",
       "       [32, 12,  4,  1]])"
      ]
     },
     "execution_count": 238,
     "metadata": {},
     "output_type": "execute_result"
    }
   ],
   "source": [
    "np.vstack([a,b])"
   ]
  },
  {
   "cell_type": "code",
   "execution_count": 239,
   "id": "660539e7",
   "metadata": {},
   "outputs": [
    {
     "data": {
      "text/plain": [
       "array([[ 1,  2,  3,  4,  1,  2,  3,  4],\n",
       "       [32, 12,  4,  1, 32, 12,  4,  1]])"
      ]
     },
     "execution_count": 239,
     "metadata": {},
     "output_type": "execute_result"
    }
   ],
   "source": [
    "np.hstack([a,b])"
   ]
  },
  {
   "attachments": {},
   "cell_type": "markdown",
   "id": "5aeb9af6",
   "metadata": {},
   "source": [
    "# Other Resources\n",
    "|  ML Course | Description |\n",
    "|:---|:---|\n",
    "| [**Data Visualization in Python Masterclass™: Beginners to Pro**](https://bit.ly/udemy95off_kgptalkie) |  Learn to build Machine Learning and Deep Learning models using Python and its libraries like Scikit-Learn, Keras, and TensorFlow. |\n",
    "| [**Python for Machine Learning: A Step-by-Step Guide**](https://bit.ly/ml-ds-project) | Learn to build Machine Learning and Deep Learning models using Python and its libraries like Scikit-Learn, Keras, and TensorFlow. |\n",
    "| [**Python for Linear Regression in Machine Learning**](https://bit.ly/regression-python) | Learn to build Linear Regression models using Python and its libraries like Scikit-Learn. |\n",
    "| [**Introduction to Spacy 3 for Natural Language Processing**](https://bit.ly/spacy-intro) | Learn to build Natural Language Processing models using Python and its libraries like Spacy. |\n",
    "| [**Advanced Machine Learning and Deep Learning Projects**](https://bit.ly/kgptalkie_ml_projects) | Learn to build Advanced Machine Learning and Deep Learning models using Python and transformer models like BERT, GPT-2, and XLNet. |\n",
    "| [**Natural Language Processing in Python for Beginners**](https://bit.ly/intro_nlp) | Learn to build Natural Language Processing Projects using Spacy, NLTK, and Gensim, and transformer models like BERT, GPT-2, and XLNet. |\n",
    "| [**Deployment of Machine Learning Models in Production in Python**](https://bit.ly/bert_nlp) |  Learn to deploy Machine Learning and Deep Learning models using Python and its libraries like Flask, Streamlit, and NGINX. |\n",
    "| [**R 4.0 Programming for Data Science - Beginners to Pro**](https://bit.ly/r4-ml) | Learn to build Machine Learning and Deep Learning models using R and its libraries like caret, tidyverse, and keras. |\n"
   ]
  }
 ],
 "metadata": {
  "kernelspec": {
   "display_name": "Python 3 (ipykernel)",
   "language": "python",
   "name": "python3"
  },
  "language_info": {
   "codemirror_mode": {
    "name": "ipython",
    "version": 3
   },
   "file_extension": ".py",
   "mimetype": "text/x-python",
   "name": "python",
   "nbconvert_exporter": "python",
   "pygments_lexer": "ipython3",
   "version": "3.9.12"
  }
 },
 "nbformat": 4,
 "nbformat_minor": 5
}
