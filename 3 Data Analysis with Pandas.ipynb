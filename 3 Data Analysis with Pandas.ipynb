{
 "cells": [
  {
   "cell_type": "markdown",
   "id": "f5677406",
   "metadata": {},
   "source": [
    "___\n",
    "<a href='http://www.kgptalkie.com'><img src='kgptalkie_strips.png'/></a>\n",
    "___\n",
    "\n",
    "<center><em>Copyright by KGPTalkie</em></center>\n",
    "<center><em>For free ML tutorials, visit us at <a href='http://www.kgptalkie.com'>www.kgptalkie.com</a></em></center>"
   ]
  },
  {
   "cell_type": "markdown",
   "id": "5fa66e0a",
   "metadata": {},
   "source": [
    "# Comprehensive Data Analysis with Pandas"
   ]
  },
  {
   "cell_type": "markdown",
   "id": "39ee5a6e",
   "metadata": {},
   "source": [
    "- Today, Python is considered as the most popular programming language for doing data science work. The reason behind this popularity is that Python provides great packages for doing data analysis and visualization work.\n",
    "- It provides tools for reading and writing data from a wide variety of sources such as CSV files, excel files, databases such as SQL, JSON files.\n",
    "- It can perform variety of operations on datasets. It includes subsetting, slicing, filtering, merging, joining, groupby, reordering and reshaping operations.\n",
    "- It can deal with missing data by either deleting them or filling them with zeros or a suitable test statistic.\n",
    "\n",
    "\n"
   ]
  },
  {
   "cell_type": "markdown",
   "id": "99763fd9",
   "metadata": {},
   "source": [
    "There are three main data structures in Pandas. They are:-\n",
    "- Series #one-dimensional array\n",
    "- Dataframe #2d\n",
    "- Panel #3D\n"
   ]
  },
  {
   "cell_type": "code",
   "execution_count": 257,
   "id": "bc40e593",
   "metadata": {},
   "outputs": [],
   "source": [
    "import pandas as pd"
   ]
  },
  {
   "cell_type": "code",
   "execution_count": 12,
   "id": "a4a97cf0",
   "metadata": {},
   "outputs": [
    {
     "data": {
      "text/plain": [
       "0        1\n",
       "1        2\n",
       "2        3\n",
       "3     four\n",
       "4     five\n",
       "5      six\n",
       "6     True\n",
       "7    False\n",
       "dtype: object"
      ]
     },
     "execution_count": 12,
     "metadata": {},
     "output_type": "execute_result"
    }
   ],
   "source": [
    "flavors = ['mango', 'cherry', 'chocolate']\n",
    "pd.Series(flavors)\n",
    "\n",
    "pd.Series([1,2,3,4])\n",
    "\n",
    "pd.Series([1,2,3,4.0])\n",
    "\n",
    "s = pd.Series([1,2,3,'four','five','six', True, False])\n",
    "type(s[4]),s.dtype\n",
    "s"
   ]
  },
  {
   "cell_type": "code",
   "execution_count": 22,
   "id": "85e222ca",
   "metadata": {},
   "outputs": [
    {
     "data": {
      "text/plain": [
       "(3, 1, 1.0, 1.0, 2.0, 2.0, 3)"
      ]
     },
     "execution_count": 22,
     "metadata": {},
     "output_type": "execute_result"
    }
   ],
   "source": [
    "a = {'b':2, 'c':3, 'a': 1}\n",
    "pd.Series(a)\n",
    "\n",
    "s = pd.Series(a, index=['a','b','c'])\n",
    "s.max(), s.min(), s.std(), s.var(), s.mean(), s.median(), s.count()"
   ]
  },
  {
   "cell_type": "code",
   "execution_count": 27,
   "id": "962913fb",
   "metadata": {},
   "outputs": [
    {
     "data": {
      "text/plain": [
       "(8, 1, (8,))"
      ]
     },
     "execution_count": 27,
     "metadata": {},
     "output_type": "execute_result"
    }
   ],
   "source": [
    "s = pd.Series([1,2,3,'four','five','six', True, False])\n",
    "s.count(), s.ndim, s.shape"
   ]
  },
  {
   "cell_type": "markdown",
   "id": "bc6938a8",
   "metadata": {},
   "source": [
    "#### Read files as Pandas Series"
   ]
  },
  {
   "cell_type": "code",
   "execution_count": 39,
   "id": "563ac113",
   "metadata": {},
   "outputs": [
    {
     "data": {
      "text/plain": [
       "(pandas.core.series.Series,\n",
       " 0          Stamford\n",
       " 1          Stamford\n",
       " 2          New York\n",
       " 3      Philadelphia\n",
       " 4      Philadelphia\n",
       "            ...     \n",
       " 995        New York\n",
       " 996    Philadelphia\n",
       " 997        Stamford\n",
       " 998        New York\n",
       " 999        New York\n",
       " Name: City, Length: 1000, dtype: object)"
      ]
     },
     "execution_count": 39,
     "metadata": {},
     "output_type": "execute_result"
    }
   ],
   "source": [
    "s = pd.read_csv('data/pokemon.csv', usecols=['Pokemon']).squeeze()\n",
    "type(s)\n",
    "\n",
    "s = pd.read_csv('data/foods.csv', usecols=['City']).squeeze()\n",
    "type(s), s"
   ]
  },
  {
   "cell_type": "markdown",
   "id": "0a3d3763",
   "metadata": {},
   "source": [
    "#### Apply pythons built in functions to series"
   ]
  },
  {
   "cell_type": "code",
   "execution_count": 52,
   "id": "f212cde9",
   "metadata": {},
   "outputs": [
    {
     "data": {
      "text/plain": [
       "(1000, dtype('O'), (1000,), 1000, 1, RangeIndex(start=0, stop=1000, step=1))"
      ]
     },
     "execution_count": 52,
     "metadata": {},
     "output_type": "execute_result"
    }
   ],
   "source": [
    "len(s), s.dtype, s.shape, s.size, s.ndim, s.index\n",
    "# s.values"
   ]
  },
  {
   "cell_type": "code",
   "execution_count": 50,
   "id": "78aa9268",
   "metadata": {},
   "outputs": [],
   "source": [
    "import numpy as np\n",
    "# np.arange(0,1000)"
   ]
  },
  {
   "cell_type": "code",
   "execution_count": 64,
   "id": "e311ffca",
   "metadata": {},
   "outputs": [
    {
     "data": {
      "text/plain": [
       "(13535525, 13535.525, 5113.0, 28820.519134890506, 1000, 1895, 482130)"
      ]
     },
     "execution_count": 64,
     "metadata": {},
     "output_type": "execute_result"
    }
   ],
   "source": [
    "s = pd.read_csv('data/fortune1000.csv', usecols=['Revenue']).squeeze()\n",
    "s.sum(), s.mean(), s.median(), s.std(), s.count(), s.min(), s.max()"
   ]
  },
  {
   "cell_type": "code",
   "execution_count": 72,
   "id": "67693154",
   "metadata": {},
   "outputs": [
    {
     "name": "stdout",
     "output_type": "stream",
     "text": [
      "\n"
     ]
    }
   ],
   "source": [
    "s.sort_values(ascending=False)\n",
    "sorted(s)\n",
    "list(s)\n",
    "dict(s)\n",
    "print()"
   ]
  },
  {
   "cell_type": "markdown",
   "id": "e025799c",
   "metadata": {},
   "source": [
    "#### .apply() for Pandas Series"
   ]
  },
  {
   "cell_type": "code",
   "execution_count": 79,
   "id": "f8a93b9b",
   "metadata": {},
   "outputs": [],
   "source": [
    "s.apply(type)\n",
    "\n",
    "s = pd.read_csv('data/fortune1000.csv', usecols=['Company']).squeeze()"
   ]
  },
  {
   "cell_type": "code",
   "execution_count": 80,
   "id": "c460a5aa",
   "metadata": {},
   "outputs": [
    {
     "data": {
      "text/plain": [
       "0               Walmart\n",
       "1           Exxon Mobil\n",
       "2                 Apple\n",
       "3    Berkshire Hathaway\n",
       "4              McKesson\n",
       "Name: Company, dtype: object"
      ]
     },
     "execution_count": 80,
     "metadata": {},
     "output_type": "execute_result"
    }
   ],
   "source": [
    "s.head()"
   ]
  },
  {
   "cell_type": "code",
   "execution_count": 92,
   "id": "0d17257c",
   "metadata": {},
   "outputs": [
    {
     "data": {
      "text/plain": [
       "('string', 6)"
      ]
     },
     "execution_count": 92,
     "metadata": {},
     "output_type": "execute_result"
    }
   ],
   "source": [
    "s.apply(lambda x: x.split())\n",
    "s.apply(str.title)\n",
    "s.apply(str.split)\n",
    "\n",
    "'string'.lower(), len('string')"
   ]
  },
  {
   "cell_type": "markdown",
   "id": "cde27ca3",
   "metadata": {},
   "source": [
    "## DataFrame "
   ]
  },
  {
   "cell_type": "code",
   "execution_count": 93,
   "id": "9f4d4023",
   "metadata": {},
   "outputs": [],
   "source": [
    "import pandas as pd"
   ]
  },
  {
   "cell_type": "code",
   "execution_count": 97,
   "id": "e52dc7f4",
   "metadata": {},
   "outputs": [
    {
     "data": {
      "text/plain": [
       "pandas.core.frame.DataFrame"
      ]
     },
     "execution_count": 97,
     "metadata": {},
     "output_type": "execute_result"
    }
   ],
   "source": [
    "a = {'one': 1, 'two': 2, 'three': 3}\n",
    "df = pd.DataFrame([a]).T\n",
    "type(df)"
   ]
  },
  {
   "cell_type": "code",
   "execution_count": 110,
   "id": "4345daec",
   "metadata": {},
   "outputs": [
    {
     "data": {
      "text/html": [
       "<div>\n",
       "<style scoped>\n",
       "    .dataframe tbody tr th:only-of-type {\n",
       "        vertical-align: middle;\n",
       "    }\n",
       "\n",
       "    .dataframe tbody tr th {\n",
       "        vertical-align: top;\n",
       "    }\n",
       "\n",
       "    .dataframe thead th {\n",
       "        text-align: right;\n",
       "    }\n",
       "</style>\n",
       "<table border=\"1\" class=\"dataframe\">\n",
       "  <thead>\n",
       "    <tr style=\"text-align: right;\">\n",
       "      <th></th>\n",
       "      <th>numbers</th>\n",
       "    </tr>\n",
       "  </thead>\n",
       "  <tbody>\n",
       "    <tr>\n",
       "      <th>0</th>\n",
       "      <td>one</td>\n",
       "    </tr>\n",
       "    <tr>\n",
       "      <th>1</th>\n",
       "      <td>two</td>\n",
       "    </tr>\n",
       "    <tr>\n",
       "      <th>2</th>\n",
       "      <td>three</td>\n",
       "    </tr>\n",
       "  </tbody>\n",
       "</table>\n",
       "</div>"
      ],
      "text/plain": [
       "  numbers\n",
       "0     one\n",
       "1     two\n",
       "2   three"
      ]
     },
     "execution_count": 110,
     "metadata": {},
     "output_type": "execute_result"
    }
   ],
   "source": [
    "a = ['one', 'two', 'three']\n",
    "pd.DataFrame(a, columns=['numbers'])"
   ]
  },
  {
   "cell_type": "code",
   "execution_count": 120,
   "id": "5ecd615b",
   "metadata": {},
   "outputs": [
    {
     "data": {
      "text/html": [
       "<div>\n",
       "<style scoped>\n",
       "    .dataframe tbody tr th:only-of-type {\n",
       "        vertical-align: middle;\n",
       "    }\n",
       "\n",
       "    .dataframe tbody tr th {\n",
       "        vertical-align: top;\n",
       "    }\n",
       "\n",
       "    .dataframe thead th {\n",
       "        text-align: right;\n",
       "    }\n",
       "</style>\n",
       "<table border=\"1\" class=\"dataframe\">\n",
       "  <thead>\n",
       "    <tr style=\"text-align: right;\">\n",
       "      <th></th>\n",
       "      <th>string</th>\n",
       "      <th>numbers</th>\n",
       "    </tr>\n",
       "  </thead>\n",
       "  <tbody>\n",
       "    <tr>\n",
       "      <th>0</th>\n",
       "      <td>one</td>\n",
       "      <td>1</td>\n",
       "    </tr>\n",
       "    <tr>\n",
       "      <th>1</th>\n",
       "      <td>two</td>\n",
       "      <td>2</td>\n",
       "    </tr>\n",
       "    <tr>\n",
       "      <th>2</th>\n",
       "      <td>three</td>\n",
       "      <td>3</td>\n",
       "    </tr>\n",
       "  </tbody>\n",
       "</table>\n",
       "</div>"
      ],
      "text/plain": [
       "  string  numbers\n",
       "0    one        1\n",
       "1    two        2\n",
       "2  three        3"
      ]
     },
     "execution_count": 120,
     "metadata": {},
     "output_type": "execute_result"
    }
   ],
   "source": [
    "a = [['one', 1], ['two', 2], ['three', 3]]\n",
    "df = pd.DataFrame(a, columns=['string', 'numbers'])\n",
    "df"
   ]
  },
  {
   "cell_type": "code",
   "execution_count": 121,
   "id": "84b4557c",
   "metadata": {},
   "outputs": [
    {
     "data": {
      "text/html": [
       "<div>\n",
       "<style scoped>\n",
       "    .dataframe tbody tr th:only-of-type {\n",
       "        vertical-align: middle;\n",
       "    }\n",
       "\n",
       "    .dataframe tbody tr th {\n",
       "        vertical-align: top;\n",
       "    }\n",
       "\n",
       "    .dataframe thead th {\n",
       "        text-align: right;\n",
       "    }\n",
       "</style>\n",
       "<table border=\"1\" class=\"dataframe\">\n",
       "  <thead>\n",
       "    <tr style=\"text-align: right;\">\n",
       "      <th></th>\n",
       "      <th>string</th>\n",
       "      <th>numbers</th>\n",
       "    </tr>\n",
       "  </thead>\n",
       "  <tbody>\n",
       "    <tr>\n",
       "      <th>0</th>\n",
       "      <td>one</td>\n",
       "      <td>1</td>\n",
       "    </tr>\n",
       "    <tr>\n",
       "      <th>1</th>\n",
       "      <td>two</td>\n",
       "      <td>2</td>\n",
       "    </tr>\n",
       "    <tr>\n",
       "      <th>2</th>\n",
       "      <td>three</td>\n",
       "      <td>3</td>\n",
       "    </tr>\n",
       "  </tbody>\n",
       "</table>\n",
       "</div>"
      ],
      "text/plain": [
       "  string  numbers\n",
       "0    one        1\n",
       "1    two        2\n",
       "2  three        3"
      ]
     },
     "execution_count": 121,
     "metadata": {},
     "output_type": "execute_result"
    }
   ],
   "source": [
    "a = (('one', 1), ('two', 2), ('three', 3))\n",
    "df = pd.DataFrame(a, columns=['string', 'numbers'])\n",
    "df"
   ]
  },
  {
   "cell_type": "markdown",
   "id": "dd3b8b0b",
   "metadata": {},
   "source": [
    "#### Read Files as DataFrame"
   ]
  },
  {
   "cell_type": "code",
   "execution_count": 123,
   "id": "5cae7876",
   "metadata": {},
   "outputs": [
    {
     "data": {
      "text/plain": [
       "(458, 9)"
      ]
     },
     "execution_count": 123,
     "metadata": {},
     "output_type": "execute_result"
    }
   ],
   "source": [
    "df = pd.read_csv('data/nba.csv')\n",
    "df.shape"
   ]
  },
  {
   "cell_type": "code",
   "execution_count": 126,
   "id": "8e5a4694",
   "metadata": {},
   "outputs": [
    {
     "data": {
      "text/plain": [
       "Index(['Name', 'Team', 'Number', 'Position', 'Age', 'Height', 'Weight',\n",
       "       'College', 'Salary'],\n",
       "      dtype='object')"
      ]
     },
     "execution_count": 126,
     "metadata": {},
     "output_type": "execute_result"
    }
   ],
   "source": [
    "df.columns"
   ]
  },
  {
   "cell_type": "code",
   "execution_count": 144,
   "id": "584a19e7",
   "metadata": {},
   "outputs": [
    {
     "data": {
      "text/html": [
       "<div>\n",
       "<style scoped>\n",
       "    .dataframe tbody tr th:only-of-type {\n",
       "        vertical-align: middle;\n",
       "    }\n",
       "\n",
       "    .dataframe tbody tr th {\n",
       "        vertical-align: top;\n",
       "    }\n",
       "\n",
       "    .dataframe thead th {\n",
       "        text-align: right;\n",
       "    }\n",
       "</style>\n",
       "<table border=\"1\" class=\"dataframe\">\n",
       "  <thead>\n",
       "    <tr style=\"text-align: right;\">\n",
       "      <th></th>\n",
       "      <th>Name</th>\n",
       "      <th>Team</th>\n",
       "      <th>Number</th>\n",
       "      <th>Position</th>\n",
       "      <th>Age</th>\n",
       "      <th>Height</th>\n",
       "      <th>Weight</th>\n",
       "      <th>College</th>\n",
       "      <th>Salary</th>\n",
       "    </tr>\n",
       "  </thead>\n",
       "  <tbody>\n",
       "    <tr>\n",
       "      <th>120</th>\n",
       "      <td>Nick Young</td>\n",
       "      <td>Los Angeles Lakers</td>\n",
       "      <td>0.0</td>\n",
       "      <td>SF</td>\n",
       "      <td>31.0</td>\n",
       "      <td>6-7</td>\n",
       "      <td>210.0</td>\n",
       "      <td>USC</td>\n",
       "      <td>5219169.0</td>\n",
       "    </tr>\n",
       "    <tr>\n",
       "      <th>189</th>\n",
       "      <td>Tobias Harris</td>\n",
       "      <td>Detroit Pistons</td>\n",
       "      <td>34.0</td>\n",
       "      <td>SF</td>\n",
       "      <td>23.0</td>\n",
       "      <td>6-9</td>\n",
       "      <td>235.0</td>\n",
       "      <td>Tennessee</td>\n",
       "      <td>16000000.0</td>\n",
       "    </tr>\n",
       "    <tr>\n",
       "      <th>127</th>\n",
       "      <td>Brandon Knight</td>\n",
       "      <td>Phoenix Suns</td>\n",
       "      <td>3.0</td>\n",
       "      <td>PG</td>\n",
       "      <td>24.0</td>\n",
       "      <td>6-3</td>\n",
       "      <td>189.0</td>\n",
       "      <td>Kentucky</td>\n",
       "      <td>13500000.0</td>\n",
       "    </tr>\n",
       "  </tbody>\n",
       "</table>\n",
       "</div>"
      ],
      "text/plain": [
       "               Name                Team  Number Position   Age Height  Weight  \\\n",
       "120      Nick Young  Los Angeles Lakers     0.0       SF  31.0    6-7   210.0   \n",
       "189   Tobias Harris     Detroit Pistons    34.0       SF  23.0    6-9   235.0   \n",
       "127  Brandon Knight        Phoenix Suns     3.0       PG  24.0    6-3   189.0   \n",
       "\n",
       "       College      Salary  \n",
       "120        USC   5219169.0  \n",
       "189  Tennessee  16000000.0  \n",
       "127   Kentucky  13500000.0  "
      ]
     },
     "execution_count": 144,
     "metadata": {},
     "output_type": "execute_result"
    }
   ],
   "source": [
    "df.head()\n",
    "df.tail()\n",
    "\n",
    "df.head(2)\n",
    "df.tail(2)\n",
    "\n",
    "df.sample(3)"
   ]
  },
  {
   "cell_type": "code",
   "execution_count": 149,
   "id": "5c8be48e",
   "metadata": {},
   "outputs": [
    {
     "name": "stdout",
     "output_type": "stream",
     "text": [
      "<class 'pandas.core.frame.DataFrame'>\n",
      "RangeIndex: 458 entries, 0 to 457\n",
      "Data columns (total 9 columns):\n",
      " #   Column    Non-Null Count  Dtype  \n",
      "---  ------    --------------  -----  \n",
      " 0   Name      457 non-null    object \n",
      " 1   Team      457 non-null    object \n",
      " 2   Number    457 non-null    float64\n",
      " 3   Position  457 non-null    object \n",
      " 4   Age       457 non-null    float64\n",
      " 5   Height    457 non-null    object \n",
      " 6   Weight    457 non-null    float64\n",
      " 7   College   373 non-null    object \n",
      " 8   Salary    446 non-null    float64\n",
      "dtypes: float64(4), object(5)\n",
      "memory usage: 32.3+ KB\n"
     ]
    }
   ],
   "source": [
    "df.shape, df.ndim, len(df), df.dtypes\n",
    "\n",
    "df.info()"
   ]
  },
  {
   "cell_type": "code",
   "execution_count": 150,
   "id": "1b63a862",
   "metadata": {},
   "outputs": [
    {
     "data": {
      "text/html": [
       "<div>\n",
       "<style scoped>\n",
       "    .dataframe tbody tr th:only-of-type {\n",
       "        vertical-align: middle;\n",
       "    }\n",
       "\n",
       "    .dataframe tbody tr th {\n",
       "        vertical-align: top;\n",
       "    }\n",
       "\n",
       "    .dataframe thead th {\n",
       "        text-align: right;\n",
       "    }\n",
       "</style>\n",
       "<table border=\"1\" class=\"dataframe\">\n",
       "  <thead>\n",
       "    <tr style=\"text-align: right;\">\n",
       "      <th></th>\n",
       "      <th>Number</th>\n",
       "      <th>Age</th>\n",
       "      <th>Weight</th>\n",
       "      <th>Salary</th>\n",
       "    </tr>\n",
       "  </thead>\n",
       "  <tbody>\n",
       "    <tr>\n",
       "      <th>count</th>\n",
       "      <td>457.000000</td>\n",
       "      <td>457.000000</td>\n",
       "      <td>457.000000</td>\n",
       "      <td>4.460000e+02</td>\n",
       "    </tr>\n",
       "    <tr>\n",
       "      <th>mean</th>\n",
       "      <td>17.678337</td>\n",
       "      <td>26.938731</td>\n",
       "      <td>221.522976</td>\n",
       "      <td>4.842684e+06</td>\n",
       "    </tr>\n",
       "    <tr>\n",
       "      <th>std</th>\n",
       "      <td>15.966090</td>\n",
       "      <td>4.404016</td>\n",
       "      <td>26.368343</td>\n",
       "      <td>5.229238e+06</td>\n",
       "    </tr>\n",
       "    <tr>\n",
       "      <th>min</th>\n",
       "      <td>0.000000</td>\n",
       "      <td>19.000000</td>\n",
       "      <td>161.000000</td>\n",
       "      <td>3.088800e+04</td>\n",
       "    </tr>\n",
       "    <tr>\n",
       "      <th>25%</th>\n",
       "      <td>5.000000</td>\n",
       "      <td>24.000000</td>\n",
       "      <td>200.000000</td>\n",
       "      <td>1.044792e+06</td>\n",
       "    </tr>\n",
       "    <tr>\n",
       "      <th>50%</th>\n",
       "      <td>13.000000</td>\n",
       "      <td>26.000000</td>\n",
       "      <td>220.000000</td>\n",
       "      <td>2.839073e+06</td>\n",
       "    </tr>\n",
       "    <tr>\n",
       "      <th>75%</th>\n",
       "      <td>25.000000</td>\n",
       "      <td>30.000000</td>\n",
       "      <td>240.000000</td>\n",
       "      <td>6.500000e+06</td>\n",
       "    </tr>\n",
       "    <tr>\n",
       "      <th>max</th>\n",
       "      <td>99.000000</td>\n",
       "      <td>40.000000</td>\n",
       "      <td>307.000000</td>\n",
       "      <td>2.500000e+07</td>\n",
       "    </tr>\n",
       "  </tbody>\n",
       "</table>\n",
       "</div>"
      ],
      "text/plain": [
       "           Number         Age      Weight        Salary\n",
       "count  457.000000  457.000000  457.000000  4.460000e+02\n",
       "mean    17.678337   26.938731  221.522976  4.842684e+06\n",
       "std     15.966090    4.404016   26.368343  5.229238e+06\n",
       "min      0.000000   19.000000  161.000000  3.088800e+04\n",
       "25%      5.000000   24.000000  200.000000  1.044792e+06\n",
       "50%     13.000000   26.000000  220.000000  2.839073e+06\n",
       "75%     25.000000   30.000000  240.000000  6.500000e+06\n",
       "max     99.000000   40.000000  307.000000  2.500000e+07"
      ]
     },
     "execution_count": 150,
     "metadata": {},
     "output_type": "execute_result"
    }
   ],
   "source": [
    "df.describe()"
   ]
  },
  {
   "cell_type": "markdown",
   "id": "9b865a31",
   "metadata": {},
   "source": [
    "#### Columns Manipulation "
   ]
  },
  {
   "cell_type": "code",
   "execution_count": 152,
   "id": "4b6f707e",
   "metadata": {},
   "outputs": [
    {
     "data": {
      "text/plain": [
       "((458, 9), 2)"
      ]
     },
     "execution_count": 152,
     "metadata": {},
     "output_type": "execute_result"
    }
   ],
   "source": [
    "nba = pd.read_csv('data/nba.csv')\n",
    "nba.shape, nba.ndim"
   ]
  },
  {
   "cell_type": "code",
   "execution_count": 153,
   "id": "d37dc942",
   "metadata": {},
   "outputs": [
    {
     "data": {
      "text/plain": [
       "Index(['Name', 'Team', 'Number', 'Position', 'Age', 'Height', 'Weight',\n",
       "       'College', 'Salary'],\n",
       "      dtype='object')"
      ]
     },
     "execution_count": 153,
     "metadata": {},
     "output_type": "execute_result"
    }
   ],
   "source": [
    "nba.columns"
   ]
  },
  {
   "cell_type": "code",
   "execution_count": 161,
   "id": "bcb59d46",
   "metadata": {},
   "outputs": [
    {
     "data": {
      "text/plain": [
       "dtype('float64')"
      ]
     },
     "execution_count": 161,
     "metadata": {},
     "output_type": "execute_result"
    }
   ],
   "source": [
    "nba['Name'], type(nba['Name'])\n",
    "nba['Number'].max()\n",
    "nba['Number'].median()\n",
    "type(nba['Number'])\n",
    "nba['Number'].dtype"
   ]
  },
  {
   "cell_type": "code",
   "execution_count": 166,
   "id": "3bb8b91a",
   "metadata": {},
   "outputs": [
    {
     "data": {
      "text/plain": [
       "dtype('O')"
      ]
     },
     "execution_count": 166,
     "metadata": {},
     "output_type": "execute_result"
    }
   ],
   "source": [
    "nba.Name.dtype"
   ]
  },
  {
   "cell_type": "code",
   "execution_count": 181,
   "id": "ecf84921",
   "metadata": {},
   "outputs": [],
   "source": [
    "nba[['Team','Name']]\n",
    "nba[['Name', 'Team']].head()\n",
    "\n",
    "nba['Sport'] = 'Some Random Sports'"
   ]
  },
  {
   "cell_type": "code",
   "execution_count": 186,
   "id": "a2158ad5",
   "metadata": {},
   "outputs": [
    {
     "data": {
      "text/html": [
       "<div>\n",
       "<style scoped>\n",
       "    .dataframe tbody tr th:only-of-type {\n",
       "        vertical-align: middle;\n",
       "    }\n",
       "\n",
       "    .dataframe tbody tr th {\n",
       "        vertical-align: top;\n",
       "    }\n",
       "\n",
       "    .dataframe thead th {\n",
       "        text-align: right;\n",
       "    }\n",
       "</style>\n",
       "<table border=\"1\" class=\"dataframe\">\n",
       "  <thead>\n",
       "    <tr style=\"text-align: right;\">\n",
       "      <th></th>\n",
       "      <th>Name</th>\n",
       "      <th>Team</th>\n",
       "      <th>Number</th>\n",
       "      <th>Position</th>\n",
       "      <th>Age</th>\n",
       "      <th>Height</th>\n",
       "      <th>Weight</th>\n",
       "      <th>College</th>\n",
       "      <th>Salary</th>\n",
       "    </tr>\n",
       "  </thead>\n",
       "  <tbody>\n",
       "    <tr>\n",
       "      <th>0</th>\n",
       "      <td>Avery Bradley</td>\n",
       "      <td>Boston Celtics</td>\n",
       "      <td>0.0</td>\n",
       "      <td>PG</td>\n",
       "      <td>25.0</td>\n",
       "      <td>6-2</td>\n",
       "      <td>180.0</td>\n",
       "      <td>Texas</td>\n",
       "      <td>7730337.0</td>\n",
       "    </tr>\n",
       "    <tr>\n",
       "      <th>1</th>\n",
       "      <td>Jae Crowder</td>\n",
       "      <td>Boston Celtics</td>\n",
       "      <td>99.0</td>\n",
       "      <td>SF</td>\n",
       "      <td>25.0</td>\n",
       "      <td>6-6</td>\n",
       "      <td>235.0</td>\n",
       "      <td>Marquette</td>\n",
       "      <td>6796117.0</td>\n",
       "    </tr>\n",
       "  </tbody>\n",
       "</table>\n",
       "</div>"
      ],
      "text/plain": [
       "            Name            Team  Number Position   Age Height  Weight  \\\n",
       "0  Avery Bradley  Boston Celtics     0.0       PG  25.0    6-2   180.0   \n",
       "1    Jae Crowder  Boston Celtics    99.0       SF  25.0    6-6   235.0   \n",
       "\n",
       "     College     Salary  \n",
       "0      Texas  7730337.0  \n",
       "1  Marquette  6796117.0  "
      ]
     },
     "execution_count": 186,
     "metadata": {},
     "output_type": "execute_result"
    }
   ],
   "source": [
    "nba.drop(['Sport'], axis=1, inplace=True)\n",
    "nba.head(2)"
   ]
  },
  {
   "cell_type": "code",
   "execution_count": null,
   "id": "13779c70",
   "metadata": {},
   "outputs": [],
   "source": []
  },
  {
   "cell_type": "code",
   "execution_count": 195,
   "id": "072287d5",
   "metadata": {},
   "outputs": [],
   "source": [
    "nba.insert(0, column='First Name', value=nba['Name'].str.split().str.get(0))"
   ]
  },
  {
   "cell_type": "code",
   "execution_count": 196,
   "id": "be909442",
   "metadata": {},
   "outputs": [
    {
     "data": {
      "text/html": [
       "<div>\n",
       "<style scoped>\n",
       "    .dataframe tbody tr th:only-of-type {\n",
       "        vertical-align: middle;\n",
       "    }\n",
       "\n",
       "    .dataframe tbody tr th {\n",
       "        vertical-align: top;\n",
       "    }\n",
       "\n",
       "    .dataframe thead th {\n",
       "        text-align: right;\n",
       "    }\n",
       "</style>\n",
       "<table border=\"1\" class=\"dataframe\">\n",
       "  <thead>\n",
       "    <tr style=\"text-align: right;\">\n",
       "      <th></th>\n",
       "      <th>First Name</th>\n",
       "      <th>Name</th>\n",
       "      <th>Team</th>\n",
       "      <th>Number</th>\n",
       "      <th>Position</th>\n",
       "      <th>Age</th>\n",
       "      <th>Height</th>\n",
       "      <th>Weight</th>\n",
       "      <th>College</th>\n",
       "      <th>Salary</th>\n",
       "    </tr>\n",
       "  </thead>\n",
       "  <tbody>\n",
       "    <tr>\n",
       "      <th>0</th>\n",
       "      <td>Avery</td>\n",
       "      <td>Avery Bradley</td>\n",
       "      <td>Boston Celtics</td>\n",
       "      <td>0.0</td>\n",
       "      <td>PG</td>\n",
       "      <td>25.0</td>\n",
       "      <td>6-2</td>\n",
       "      <td>180.0</td>\n",
       "      <td>Texas</td>\n",
       "      <td>7730337.0</td>\n",
       "    </tr>\n",
       "    <tr>\n",
       "      <th>1</th>\n",
       "      <td>Jae</td>\n",
       "      <td>Jae Crowder</td>\n",
       "      <td>Boston Celtics</td>\n",
       "      <td>99.0</td>\n",
       "      <td>SF</td>\n",
       "      <td>25.0</td>\n",
       "      <td>6-6</td>\n",
       "      <td>235.0</td>\n",
       "      <td>Marquette</td>\n",
       "      <td>6796117.0</td>\n",
       "    </tr>\n",
       "    <tr>\n",
       "      <th>2</th>\n",
       "      <td>John</td>\n",
       "      <td>John Holland</td>\n",
       "      <td>Boston Celtics</td>\n",
       "      <td>30.0</td>\n",
       "      <td>SG</td>\n",
       "      <td>27.0</td>\n",
       "      <td>6-5</td>\n",
       "      <td>205.0</td>\n",
       "      <td>Boston University</td>\n",
       "      <td>NaN</td>\n",
       "    </tr>\n",
       "    <tr>\n",
       "      <th>3</th>\n",
       "      <td>R.J.</td>\n",
       "      <td>R.J. Hunter</td>\n",
       "      <td>Boston Celtics</td>\n",
       "      <td>28.0</td>\n",
       "      <td>SG</td>\n",
       "      <td>22.0</td>\n",
       "      <td>6-5</td>\n",
       "      <td>185.0</td>\n",
       "      <td>Georgia State</td>\n",
       "      <td>1148640.0</td>\n",
       "    </tr>\n",
       "    <tr>\n",
       "      <th>4</th>\n",
       "      <td>Jonas</td>\n",
       "      <td>Jonas Jerebko</td>\n",
       "      <td>Boston Celtics</td>\n",
       "      <td>8.0</td>\n",
       "      <td>PF</td>\n",
       "      <td>29.0</td>\n",
       "      <td>6-10</td>\n",
       "      <td>231.0</td>\n",
       "      <td>NaN</td>\n",
       "      <td>5000000.0</td>\n",
       "    </tr>\n",
       "    <tr>\n",
       "      <th>...</th>\n",
       "      <td>...</td>\n",
       "      <td>...</td>\n",
       "      <td>...</td>\n",
       "      <td>...</td>\n",
       "      <td>...</td>\n",
       "      <td>...</td>\n",
       "      <td>...</td>\n",
       "      <td>...</td>\n",
       "      <td>...</td>\n",
       "      <td>...</td>\n",
       "    </tr>\n",
       "    <tr>\n",
       "      <th>453</th>\n",
       "      <td>Shelvin</td>\n",
       "      <td>Shelvin Mack</td>\n",
       "      <td>Utah Jazz</td>\n",
       "      <td>8.0</td>\n",
       "      <td>PG</td>\n",
       "      <td>26.0</td>\n",
       "      <td>6-3</td>\n",
       "      <td>203.0</td>\n",
       "      <td>Butler</td>\n",
       "      <td>2433333.0</td>\n",
       "    </tr>\n",
       "    <tr>\n",
       "      <th>454</th>\n",
       "      <td>Raul</td>\n",
       "      <td>Raul Neto</td>\n",
       "      <td>Utah Jazz</td>\n",
       "      <td>25.0</td>\n",
       "      <td>PG</td>\n",
       "      <td>24.0</td>\n",
       "      <td>6-1</td>\n",
       "      <td>179.0</td>\n",
       "      <td>NaN</td>\n",
       "      <td>900000.0</td>\n",
       "    </tr>\n",
       "    <tr>\n",
       "      <th>455</th>\n",
       "      <td>Tibor</td>\n",
       "      <td>Tibor Pleiss</td>\n",
       "      <td>Utah Jazz</td>\n",
       "      <td>21.0</td>\n",
       "      <td>C</td>\n",
       "      <td>26.0</td>\n",
       "      <td>7-3</td>\n",
       "      <td>256.0</td>\n",
       "      <td>NaN</td>\n",
       "      <td>2900000.0</td>\n",
       "    </tr>\n",
       "    <tr>\n",
       "      <th>456</th>\n",
       "      <td>Jeff</td>\n",
       "      <td>Jeff Withey</td>\n",
       "      <td>Utah Jazz</td>\n",
       "      <td>24.0</td>\n",
       "      <td>C</td>\n",
       "      <td>26.0</td>\n",
       "      <td>7-0</td>\n",
       "      <td>231.0</td>\n",
       "      <td>Kansas</td>\n",
       "      <td>947276.0</td>\n",
       "    </tr>\n",
       "    <tr>\n",
       "      <th>457</th>\n",
       "      <td>NaN</td>\n",
       "      <td>NaN</td>\n",
       "      <td>NaN</td>\n",
       "      <td>NaN</td>\n",
       "      <td>NaN</td>\n",
       "      <td>NaN</td>\n",
       "      <td>NaN</td>\n",
       "      <td>NaN</td>\n",
       "      <td>NaN</td>\n",
       "      <td>NaN</td>\n",
       "    </tr>\n",
       "  </tbody>\n",
       "</table>\n",
       "<p>458 rows × 10 columns</p>\n",
       "</div>"
      ],
      "text/plain": [
       "    First Name           Name            Team  Number Position   Age Height  \\\n",
       "0        Avery  Avery Bradley  Boston Celtics     0.0       PG  25.0    6-2   \n",
       "1          Jae    Jae Crowder  Boston Celtics    99.0       SF  25.0    6-6   \n",
       "2         John   John Holland  Boston Celtics    30.0       SG  27.0    6-5   \n",
       "3         R.J.    R.J. Hunter  Boston Celtics    28.0       SG  22.0    6-5   \n",
       "4        Jonas  Jonas Jerebko  Boston Celtics     8.0       PF  29.0   6-10   \n",
       "..         ...            ...             ...     ...      ...   ...    ...   \n",
       "453    Shelvin   Shelvin Mack       Utah Jazz     8.0       PG  26.0    6-3   \n",
       "454       Raul      Raul Neto       Utah Jazz    25.0       PG  24.0    6-1   \n",
       "455      Tibor   Tibor Pleiss       Utah Jazz    21.0        C  26.0    7-3   \n",
       "456       Jeff    Jeff Withey       Utah Jazz    24.0        C  26.0    7-0   \n",
       "457        NaN            NaN             NaN     NaN      NaN   NaN    NaN   \n",
       "\n",
       "     Weight            College     Salary  \n",
       "0     180.0              Texas  7730337.0  \n",
       "1     235.0          Marquette  6796117.0  \n",
       "2     205.0  Boston University        NaN  \n",
       "3     185.0      Georgia State  1148640.0  \n",
       "4     231.0                NaN  5000000.0  \n",
       "..      ...                ...        ...  \n",
       "453   203.0             Butler  2433333.0  \n",
       "454   179.0                NaN   900000.0  \n",
       "455   256.0                NaN  2900000.0  \n",
       "456   231.0             Kansas   947276.0  \n",
       "457     NaN                NaN        NaN  \n",
       "\n",
       "[458 rows x 10 columns]"
      ]
     },
     "execution_count": 196,
     "metadata": {},
     "output_type": "execute_result"
    }
   ],
   "source": [
    "nba"
   ]
  },
  {
   "cell_type": "markdown",
   "id": "64f2a062",
   "metadata": {},
   "source": [
    "#### Arithmetic Operations"
   ]
  },
  {
   "cell_type": "code",
   "execution_count": 207,
   "id": "da9423b3",
   "metadata": {},
   "outputs": [],
   "source": [
    "nba['Age'] + 10\n",
    "nba['Age']*10\n",
    "nba['Age']//10\n",
    "nba['Age']%10\n",
    "\n",
    "nba['Age'].add(10)\n",
    "\n",
    "nba['weight_number'] = nba['Weight'] + nba['Number']"
   ]
  },
  {
   "cell_type": "code",
   "execution_count": 209,
   "id": "81de819d",
   "metadata": {},
   "outputs": [],
   "source": [
    "nba.drop(['weight_number'], axis=1, inplace=True)"
   ]
  },
  {
   "cell_type": "code",
   "execution_count": 210,
   "id": "a959e7fe",
   "metadata": {},
   "outputs": [
    {
     "data": {
      "text/html": [
       "<div>\n",
       "<style scoped>\n",
       "    .dataframe tbody tr th:only-of-type {\n",
       "        vertical-align: middle;\n",
       "    }\n",
       "\n",
       "    .dataframe tbody tr th {\n",
       "        vertical-align: top;\n",
       "    }\n",
       "\n",
       "    .dataframe thead th {\n",
       "        text-align: right;\n",
       "    }\n",
       "</style>\n",
       "<table border=\"1\" class=\"dataframe\">\n",
       "  <thead>\n",
       "    <tr style=\"text-align: right;\">\n",
       "      <th></th>\n",
       "      <th>First Name</th>\n",
       "      <th>Name</th>\n",
       "      <th>Team</th>\n",
       "      <th>Number</th>\n",
       "      <th>Position</th>\n",
       "      <th>Age</th>\n",
       "      <th>Height</th>\n",
       "      <th>Weight</th>\n",
       "      <th>College</th>\n",
       "      <th>Salary</th>\n",
       "    </tr>\n",
       "  </thead>\n",
       "  <tbody>\n",
       "    <tr>\n",
       "      <th>0</th>\n",
       "      <td>Avery</td>\n",
       "      <td>Avery Bradley</td>\n",
       "      <td>Boston Celtics</td>\n",
       "      <td>0.0</td>\n",
       "      <td>PG</td>\n",
       "      <td>25.0</td>\n",
       "      <td>6-2</td>\n",
       "      <td>180.0</td>\n",
       "      <td>Texas</td>\n",
       "      <td>7730337.0</td>\n",
       "    </tr>\n",
       "    <tr>\n",
       "      <th>1</th>\n",
       "      <td>Jae</td>\n",
       "      <td>Jae Crowder</td>\n",
       "      <td>Boston Celtics</td>\n",
       "      <td>99.0</td>\n",
       "      <td>SF</td>\n",
       "      <td>25.0</td>\n",
       "      <td>6-6</td>\n",
       "      <td>235.0</td>\n",
       "      <td>Marquette</td>\n",
       "      <td>6796117.0</td>\n",
       "    </tr>\n",
       "    <tr>\n",
       "      <th>2</th>\n",
       "      <td>John</td>\n",
       "      <td>John Holland</td>\n",
       "      <td>Boston Celtics</td>\n",
       "      <td>30.0</td>\n",
       "      <td>SG</td>\n",
       "      <td>27.0</td>\n",
       "      <td>6-5</td>\n",
       "      <td>205.0</td>\n",
       "      <td>Boston University</td>\n",
       "      <td>NaN</td>\n",
       "    </tr>\n",
       "    <tr>\n",
       "      <th>3</th>\n",
       "      <td>R.J.</td>\n",
       "      <td>R.J. Hunter</td>\n",
       "      <td>Boston Celtics</td>\n",
       "      <td>28.0</td>\n",
       "      <td>SG</td>\n",
       "      <td>22.0</td>\n",
       "      <td>6-5</td>\n",
       "      <td>185.0</td>\n",
       "      <td>Georgia State</td>\n",
       "      <td>1148640.0</td>\n",
       "    </tr>\n",
       "    <tr>\n",
       "      <th>4</th>\n",
       "      <td>Jonas</td>\n",
       "      <td>Jonas Jerebko</td>\n",
       "      <td>Boston Celtics</td>\n",
       "      <td>8.0</td>\n",
       "      <td>PF</td>\n",
       "      <td>29.0</td>\n",
       "      <td>6-10</td>\n",
       "      <td>231.0</td>\n",
       "      <td>NaN</td>\n",
       "      <td>5000000.0</td>\n",
       "    </tr>\n",
       "    <tr>\n",
       "      <th>...</th>\n",
       "      <td>...</td>\n",
       "      <td>...</td>\n",
       "      <td>...</td>\n",
       "      <td>...</td>\n",
       "      <td>...</td>\n",
       "      <td>...</td>\n",
       "      <td>...</td>\n",
       "      <td>...</td>\n",
       "      <td>...</td>\n",
       "      <td>...</td>\n",
       "    </tr>\n",
       "    <tr>\n",
       "      <th>453</th>\n",
       "      <td>Shelvin</td>\n",
       "      <td>Shelvin Mack</td>\n",
       "      <td>Utah Jazz</td>\n",
       "      <td>8.0</td>\n",
       "      <td>PG</td>\n",
       "      <td>26.0</td>\n",
       "      <td>6-3</td>\n",
       "      <td>203.0</td>\n",
       "      <td>Butler</td>\n",
       "      <td>2433333.0</td>\n",
       "    </tr>\n",
       "    <tr>\n",
       "      <th>454</th>\n",
       "      <td>Raul</td>\n",
       "      <td>Raul Neto</td>\n",
       "      <td>Utah Jazz</td>\n",
       "      <td>25.0</td>\n",
       "      <td>PG</td>\n",
       "      <td>24.0</td>\n",
       "      <td>6-1</td>\n",
       "      <td>179.0</td>\n",
       "      <td>NaN</td>\n",
       "      <td>900000.0</td>\n",
       "    </tr>\n",
       "    <tr>\n",
       "      <th>455</th>\n",
       "      <td>Tibor</td>\n",
       "      <td>Tibor Pleiss</td>\n",
       "      <td>Utah Jazz</td>\n",
       "      <td>21.0</td>\n",
       "      <td>C</td>\n",
       "      <td>26.0</td>\n",
       "      <td>7-3</td>\n",
       "      <td>256.0</td>\n",
       "      <td>NaN</td>\n",
       "      <td>2900000.0</td>\n",
       "    </tr>\n",
       "    <tr>\n",
       "      <th>456</th>\n",
       "      <td>Jeff</td>\n",
       "      <td>Jeff Withey</td>\n",
       "      <td>Utah Jazz</td>\n",
       "      <td>24.0</td>\n",
       "      <td>C</td>\n",
       "      <td>26.0</td>\n",
       "      <td>7-0</td>\n",
       "      <td>231.0</td>\n",
       "      <td>Kansas</td>\n",
       "      <td>947276.0</td>\n",
       "    </tr>\n",
       "    <tr>\n",
       "      <th>457</th>\n",
       "      <td>NaN</td>\n",
       "      <td>NaN</td>\n",
       "      <td>NaN</td>\n",
       "      <td>NaN</td>\n",
       "      <td>NaN</td>\n",
       "      <td>NaN</td>\n",
       "      <td>NaN</td>\n",
       "      <td>NaN</td>\n",
       "      <td>NaN</td>\n",
       "      <td>NaN</td>\n",
       "    </tr>\n",
       "  </tbody>\n",
       "</table>\n",
       "<p>458 rows × 10 columns</p>\n",
       "</div>"
      ],
      "text/plain": [
       "    First Name           Name            Team  Number Position   Age Height  \\\n",
       "0        Avery  Avery Bradley  Boston Celtics     0.0       PG  25.0    6-2   \n",
       "1          Jae    Jae Crowder  Boston Celtics    99.0       SF  25.0    6-6   \n",
       "2         John   John Holland  Boston Celtics    30.0       SG  27.0    6-5   \n",
       "3         R.J.    R.J. Hunter  Boston Celtics    28.0       SG  22.0    6-5   \n",
       "4        Jonas  Jonas Jerebko  Boston Celtics     8.0       PF  29.0   6-10   \n",
       "..         ...            ...             ...     ...      ...   ...    ...   \n",
       "453    Shelvin   Shelvin Mack       Utah Jazz     8.0       PG  26.0    6-3   \n",
       "454       Raul      Raul Neto       Utah Jazz    25.0       PG  24.0    6-1   \n",
       "455      Tibor   Tibor Pleiss       Utah Jazz    21.0        C  26.0    7-3   \n",
       "456       Jeff    Jeff Withey       Utah Jazz    24.0        C  26.0    7-0   \n",
       "457        NaN            NaN             NaN     NaN      NaN   NaN    NaN   \n",
       "\n",
       "     Weight            College     Salary  \n",
       "0     180.0              Texas  7730337.0  \n",
       "1     235.0          Marquette  6796117.0  \n",
       "2     205.0  Boston University        NaN  \n",
       "3     185.0      Georgia State  1148640.0  \n",
       "4     231.0                NaN  5000000.0  \n",
       "..      ...                ...        ...  \n",
       "453   203.0             Butler  2433333.0  \n",
       "454   179.0                NaN   900000.0  \n",
       "455   256.0                NaN  2900000.0  \n",
       "456   231.0             Kansas   947276.0  \n",
       "457     NaN                NaN        NaN  \n",
       "\n",
       "[458 rows x 10 columns]"
      ]
     },
     "execution_count": 210,
     "metadata": {},
     "output_type": "execute_result"
    }
   ],
   "source": [
    "nba"
   ]
  },
  {
   "cell_type": "markdown",
   "id": "6db26557",
   "metadata": {},
   "source": [
    "#### NULL Values Handling "
   ]
  },
  {
   "cell_type": "code",
   "execution_count": 217,
   "id": "8d95b005",
   "metadata": {},
   "outputs": [
    {
     "data": {
      "text/plain": [
       "First Name    0\n",
       "Name          0\n",
       "Team          0\n",
       "Number        0\n",
       "Position      0\n",
       "Age           0\n",
       "Height        0\n",
       "Weight        0\n",
       "College       0\n",
       "Salary        0\n",
       "dtype: int64"
      ]
     },
     "execution_count": 217,
     "metadata": {},
     "output_type": "execute_result"
    }
   ],
   "source": [
    "# nba.info()\n",
    "\n",
    "nba.isnull().sum()\n",
    "\n",
    "nba.notnull().sum()\n",
    "nba.fillna(0, inplace=True)\n",
    "nba.isnull().sum()"
   ]
  },
  {
   "cell_type": "code",
   "execution_count": 225,
   "id": "63d33b51",
   "metadata": {},
   "outputs": [],
   "source": [
    "nba = pd.read_csv('data/nba.csv')\n",
    "nba.isnull().sum()\n",
    "\n",
    "nba['College'] = nba['College'].fillna('Not a College/Unknown')\n",
    "nba['College'].fillna('Not a College/Unknown', inplace=True)"
   ]
  },
  {
   "cell_type": "code",
   "execution_count": 227,
   "id": "d1f17bb4",
   "metadata": {},
   "outputs": [],
   "source": [
    "nba.fillna(0, inplace=True)"
   ]
  },
  {
   "cell_type": "code",
   "execution_count": 228,
   "id": "5430e2c1",
   "metadata": {},
   "outputs": [
    {
     "data": {
      "text/html": [
       "<div>\n",
       "<style scoped>\n",
       "    .dataframe tbody tr th:only-of-type {\n",
       "        vertical-align: middle;\n",
       "    }\n",
       "\n",
       "    .dataframe tbody tr th {\n",
       "        vertical-align: top;\n",
       "    }\n",
       "\n",
       "    .dataframe thead th {\n",
       "        text-align: right;\n",
       "    }\n",
       "</style>\n",
       "<table border=\"1\" class=\"dataframe\">\n",
       "  <thead>\n",
       "    <tr style=\"text-align: right;\">\n",
       "      <th></th>\n",
       "      <th>Name</th>\n",
       "      <th>Team</th>\n",
       "      <th>Number</th>\n",
       "      <th>Position</th>\n",
       "      <th>Age</th>\n",
       "      <th>Height</th>\n",
       "      <th>Weight</th>\n",
       "      <th>College</th>\n",
       "      <th>Salary</th>\n",
       "    </tr>\n",
       "  </thead>\n",
       "  <tbody>\n",
       "    <tr>\n",
       "      <th>0</th>\n",
       "      <td>Avery Bradley</td>\n",
       "      <td>Boston Celtics</td>\n",
       "      <td>0.0</td>\n",
       "      <td>PG</td>\n",
       "      <td>25.0</td>\n",
       "      <td>6-2</td>\n",
       "      <td>180.0</td>\n",
       "      <td>Texas</td>\n",
       "      <td>7730337.0</td>\n",
       "    </tr>\n",
       "    <tr>\n",
       "      <th>1</th>\n",
       "      <td>Jae Crowder</td>\n",
       "      <td>Boston Celtics</td>\n",
       "      <td>99.0</td>\n",
       "      <td>SF</td>\n",
       "      <td>25.0</td>\n",
       "      <td>6-6</td>\n",
       "      <td>235.0</td>\n",
       "      <td>Marquette</td>\n",
       "      <td>6796117.0</td>\n",
       "    </tr>\n",
       "    <tr>\n",
       "      <th>2</th>\n",
       "      <td>John Holland</td>\n",
       "      <td>Boston Celtics</td>\n",
       "      <td>30.0</td>\n",
       "      <td>SG</td>\n",
       "      <td>27.0</td>\n",
       "      <td>6-5</td>\n",
       "      <td>205.0</td>\n",
       "      <td>Boston University</td>\n",
       "      <td>0.0</td>\n",
       "    </tr>\n",
       "    <tr>\n",
       "      <th>3</th>\n",
       "      <td>R.J. Hunter</td>\n",
       "      <td>Boston Celtics</td>\n",
       "      <td>28.0</td>\n",
       "      <td>SG</td>\n",
       "      <td>22.0</td>\n",
       "      <td>6-5</td>\n",
       "      <td>185.0</td>\n",
       "      <td>Georgia State</td>\n",
       "      <td>1148640.0</td>\n",
       "    </tr>\n",
       "    <tr>\n",
       "      <th>4</th>\n",
       "      <td>Jonas Jerebko</td>\n",
       "      <td>Boston Celtics</td>\n",
       "      <td>8.0</td>\n",
       "      <td>PF</td>\n",
       "      <td>29.0</td>\n",
       "      <td>6-10</td>\n",
       "      <td>231.0</td>\n",
       "      <td>Not a College/Unknown</td>\n",
       "      <td>5000000.0</td>\n",
       "    </tr>\n",
       "    <tr>\n",
       "      <th>...</th>\n",
       "      <td>...</td>\n",
       "      <td>...</td>\n",
       "      <td>...</td>\n",
       "      <td>...</td>\n",
       "      <td>...</td>\n",
       "      <td>...</td>\n",
       "      <td>...</td>\n",
       "      <td>...</td>\n",
       "      <td>...</td>\n",
       "    </tr>\n",
       "    <tr>\n",
       "      <th>453</th>\n",
       "      <td>Shelvin Mack</td>\n",
       "      <td>Utah Jazz</td>\n",
       "      <td>8.0</td>\n",
       "      <td>PG</td>\n",
       "      <td>26.0</td>\n",
       "      <td>6-3</td>\n",
       "      <td>203.0</td>\n",
       "      <td>Butler</td>\n",
       "      <td>2433333.0</td>\n",
       "    </tr>\n",
       "    <tr>\n",
       "      <th>454</th>\n",
       "      <td>Raul Neto</td>\n",
       "      <td>Utah Jazz</td>\n",
       "      <td>25.0</td>\n",
       "      <td>PG</td>\n",
       "      <td>24.0</td>\n",
       "      <td>6-1</td>\n",
       "      <td>179.0</td>\n",
       "      <td>Not a College/Unknown</td>\n",
       "      <td>900000.0</td>\n",
       "    </tr>\n",
       "    <tr>\n",
       "      <th>455</th>\n",
       "      <td>Tibor Pleiss</td>\n",
       "      <td>Utah Jazz</td>\n",
       "      <td>21.0</td>\n",
       "      <td>C</td>\n",
       "      <td>26.0</td>\n",
       "      <td>7-3</td>\n",
       "      <td>256.0</td>\n",
       "      <td>Not a College/Unknown</td>\n",
       "      <td>2900000.0</td>\n",
       "    </tr>\n",
       "    <tr>\n",
       "      <th>456</th>\n",
       "      <td>Jeff Withey</td>\n",
       "      <td>Utah Jazz</td>\n",
       "      <td>24.0</td>\n",
       "      <td>C</td>\n",
       "      <td>26.0</td>\n",
       "      <td>7-0</td>\n",
       "      <td>231.0</td>\n",
       "      <td>Kansas</td>\n",
       "      <td>947276.0</td>\n",
       "    </tr>\n",
       "    <tr>\n",
       "      <th>457</th>\n",
       "      <td>0</td>\n",
       "      <td>0</td>\n",
       "      <td>0.0</td>\n",
       "      <td>0</td>\n",
       "      <td>0.0</td>\n",
       "      <td>0</td>\n",
       "      <td>0.0</td>\n",
       "      <td>Not a College/Unknown</td>\n",
       "      <td>0.0</td>\n",
       "    </tr>\n",
       "  </tbody>\n",
       "</table>\n",
       "<p>458 rows × 9 columns</p>\n",
       "</div>"
      ],
      "text/plain": [
       "              Name            Team  Number Position   Age Height  Weight  \\\n",
       "0    Avery Bradley  Boston Celtics     0.0       PG  25.0    6-2   180.0   \n",
       "1      Jae Crowder  Boston Celtics    99.0       SF  25.0    6-6   235.0   \n",
       "2     John Holland  Boston Celtics    30.0       SG  27.0    6-5   205.0   \n",
       "3      R.J. Hunter  Boston Celtics    28.0       SG  22.0    6-5   185.0   \n",
       "4    Jonas Jerebko  Boston Celtics     8.0       PF  29.0   6-10   231.0   \n",
       "..             ...             ...     ...      ...   ...    ...     ...   \n",
       "453   Shelvin Mack       Utah Jazz     8.0       PG  26.0    6-3   203.0   \n",
       "454      Raul Neto       Utah Jazz    25.0       PG  24.0    6-1   179.0   \n",
       "455   Tibor Pleiss       Utah Jazz    21.0        C  26.0    7-3   256.0   \n",
       "456    Jeff Withey       Utah Jazz    24.0        C  26.0    7-0   231.0   \n",
       "457              0               0     0.0        0   0.0      0     0.0   \n",
       "\n",
       "                   College     Salary  \n",
       "0                    Texas  7730337.0  \n",
       "1                Marquette  6796117.0  \n",
       "2        Boston University        0.0  \n",
       "3            Georgia State  1148640.0  \n",
       "4    Not a College/Unknown  5000000.0  \n",
       "..                     ...        ...  \n",
       "453                 Butler  2433333.0  \n",
       "454  Not a College/Unknown   900000.0  \n",
       "455  Not a College/Unknown  2900000.0  \n",
       "456                 Kansas   947276.0  \n",
       "457  Not a College/Unknown        0.0  \n",
       "\n",
       "[458 rows x 9 columns]"
      ]
     },
     "execution_count": 228,
     "metadata": {},
     "output_type": "execute_result"
    }
   ],
   "source": [
    "nba"
   ]
  },
  {
   "cell_type": "markdown",
   "id": "bd82632b",
   "metadata": {},
   "source": [
    "#### DataFrame Data Filtering"
   ]
  },
  {
   "cell_type": "code",
   "execution_count": 256,
   "id": "1eee61ba",
   "metadata": {},
   "outputs": [
    {
     "data": {
      "text/html": [
       "<div>\n",
       "<style scoped>\n",
       "    .dataframe tbody tr th:only-of-type {\n",
       "        vertical-align: middle;\n",
       "    }\n",
       "\n",
       "    .dataframe tbody tr th {\n",
       "        vertical-align: top;\n",
       "    }\n",
       "\n",
       "    .dataframe thead th {\n",
       "        text-align: right;\n",
       "    }\n",
       "</style>\n",
       "<table border=\"1\" class=\"dataframe\">\n",
       "  <thead>\n",
       "    <tr style=\"text-align: right;\">\n",
       "      <th></th>\n",
       "      <th>Name</th>\n",
       "      <th>Team</th>\n",
       "      <th>Number</th>\n",
       "      <th>Position</th>\n",
       "      <th>Age</th>\n",
       "      <th>Height</th>\n",
       "      <th>Weight</th>\n",
       "      <th>College</th>\n",
       "      <th>Salary</th>\n",
       "    </tr>\n",
       "  </thead>\n",
       "  <tbody>\n",
       "    <tr>\n",
       "      <th>0</th>\n",
       "      <td>Avery Bradley</td>\n",
       "      <td>Boston Celtics</td>\n",
       "      <td>0.0</td>\n",
       "      <td>PG</td>\n",
       "      <td>25.0</td>\n",
       "      <td>6-2</td>\n",
       "      <td>180.0</td>\n",
       "      <td>Texas</td>\n",
       "      <td>7730337.0</td>\n",
       "    </tr>\n",
       "    <tr>\n",
       "      <th>1</th>\n",
       "      <td>Jae Crowder</td>\n",
       "      <td>Boston Celtics</td>\n",
       "      <td>99.0</td>\n",
       "      <td>SF</td>\n",
       "      <td>25.0</td>\n",
       "      <td>6-6</td>\n",
       "      <td>235.0</td>\n",
       "      <td>Marquette</td>\n",
       "      <td>6796117.0</td>\n",
       "    </tr>\n",
       "    <tr>\n",
       "      <th>2</th>\n",
       "      <td>John Holland</td>\n",
       "      <td>Boston Celtics</td>\n",
       "      <td>30.0</td>\n",
       "      <td>SG</td>\n",
       "      <td>27.0</td>\n",
       "      <td>6-5</td>\n",
       "      <td>205.0</td>\n",
       "      <td>Boston University</td>\n",
       "      <td>0.0</td>\n",
       "    </tr>\n",
       "    <tr>\n",
       "      <th>4</th>\n",
       "      <td>Jonas Jerebko</td>\n",
       "      <td>Boston Celtics</td>\n",
       "      <td>8.0</td>\n",
       "      <td>PF</td>\n",
       "      <td>29.0</td>\n",
       "      <td>6-10</td>\n",
       "      <td>231.0</td>\n",
       "      <td>Not a College/Unknown</td>\n",
       "      <td>5000000.0</td>\n",
       "    </tr>\n",
       "    <tr>\n",
       "      <th>5</th>\n",
       "      <td>Amir Johnson</td>\n",
       "      <td>Boston Celtics</td>\n",
       "      <td>90.0</td>\n",
       "      <td>PF</td>\n",
       "      <td>29.0</td>\n",
       "      <td>6-9</td>\n",
       "      <td>240.0</td>\n",
       "      <td>Not a College/Unknown</td>\n",
       "      <td>12000000.0</td>\n",
       "    </tr>\n",
       "    <tr>\n",
       "      <th>...</th>\n",
       "      <td>...</td>\n",
       "      <td>...</td>\n",
       "      <td>...</td>\n",
       "      <td>...</td>\n",
       "      <td>...</td>\n",
       "      <td>...</td>\n",
       "      <td>...</td>\n",
       "      <td>...</td>\n",
       "      <td>...</td>\n",
       "    </tr>\n",
       "    <tr>\n",
       "      <th>450</th>\n",
       "      <td>Joe Ingles</td>\n",
       "      <td>Utah Jazz</td>\n",
       "      <td>2.0</td>\n",
       "      <td>SF</td>\n",
       "      <td>28.0</td>\n",
       "      <td>6-8</td>\n",
       "      <td>226.0</td>\n",
       "      <td>Not a College/Unknown</td>\n",
       "      <td>2050000.0</td>\n",
       "    </tr>\n",
       "    <tr>\n",
       "      <th>451</th>\n",
       "      <td>Chris Johnson</td>\n",
       "      <td>Utah Jazz</td>\n",
       "      <td>23.0</td>\n",
       "      <td>SF</td>\n",
       "      <td>26.0</td>\n",
       "      <td>6-6</td>\n",
       "      <td>206.0</td>\n",
       "      <td>Dayton</td>\n",
       "      <td>981348.0</td>\n",
       "    </tr>\n",
       "    <tr>\n",
       "      <th>453</th>\n",
       "      <td>Shelvin Mack</td>\n",
       "      <td>Utah Jazz</td>\n",
       "      <td>8.0</td>\n",
       "      <td>PG</td>\n",
       "      <td>26.0</td>\n",
       "      <td>6-3</td>\n",
       "      <td>203.0</td>\n",
       "      <td>Butler</td>\n",
       "      <td>2433333.0</td>\n",
       "    </tr>\n",
       "    <tr>\n",
       "      <th>455</th>\n",
       "      <td>Tibor Pleiss</td>\n",
       "      <td>Utah Jazz</td>\n",
       "      <td>21.0</td>\n",
       "      <td>C</td>\n",
       "      <td>26.0</td>\n",
       "      <td>7-3</td>\n",
       "      <td>256.0</td>\n",
       "      <td>Not a College/Unknown</td>\n",
       "      <td>2900000.0</td>\n",
       "    </tr>\n",
       "    <tr>\n",
       "      <th>456</th>\n",
       "      <td>Jeff Withey</td>\n",
       "      <td>Utah Jazz</td>\n",
       "      <td>24.0</td>\n",
       "      <td>C</td>\n",
       "      <td>26.0</td>\n",
       "      <td>7-0</td>\n",
       "      <td>231.0</td>\n",
       "      <td>Kansas</td>\n",
       "      <td>947276.0</td>\n",
       "    </tr>\n",
       "  </tbody>\n",
       "</table>\n",
       "<p>234 rows × 9 columns</p>\n",
       "</div>"
      ],
      "text/plain": [
       "              Name            Team  Number Position   Age Height  Weight  \\\n",
       "0    Avery Bradley  Boston Celtics     0.0       PG  25.0    6-2   180.0   \n",
       "1      Jae Crowder  Boston Celtics    99.0       SF  25.0    6-6   235.0   \n",
       "2     John Holland  Boston Celtics    30.0       SG  27.0    6-5   205.0   \n",
       "4    Jonas Jerebko  Boston Celtics     8.0       PF  29.0   6-10   231.0   \n",
       "5     Amir Johnson  Boston Celtics    90.0       PF  29.0    6-9   240.0   \n",
       "..             ...             ...     ...      ...   ...    ...     ...   \n",
       "450     Joe Ingles       Utah Jazz     2.0       SF  28.0    6-8   226.0   \n",
       "451  Chris Johnson       Utah Jazz    23.0       SF  26.0    6-6   206.0   \n",
       "453   Shelvin Mack       Utah Jazz     8.0       PG  26.0    6-3   203.0   \n",
       "455   Tibor Pleiss       Utah Jazz    21.0        C  26.0    7-3   256.0   \n",
       "456    Jeff Withey       Utah Jazz    24.0        C  26.0    7-0   231.0   \n",
       "\n",
       "                   College      Salary  \n",
       "0                    Texas   7730337.0  \n",
       "1                Marquette   6796117.0  \n",
       "2        Boston University         0.0  \n",
       "4    Not a College/Unknown   5000000.0  \n",
       "5    Not a College/Unknown  12000000.0  \n",
       "..                     ...         ...  \n",
       "450  Not a College/Unknown   2050000.0  \n",
       "451                 Dayton    981348.0  \n",
       "453                 Butler   2433333.0  \n",
       "455  Not a College/Unknown   2900000.0  \n",
       "456                 Kansas    947276.0  \n",
       "\n",
       "[234 rows x 9 columns]"
      ]
     },
     "execution_count": 256,
     "metadata": {},
     "output_type": "execute_result"
    }
   ],
   "source": [
    "nba[nba['College']=='Duke']\n",
    "\n",
    "nba[nba['Name'].str.contains('John')==True]\n",
    "\n",
    "nba[nba['Age']>35].shape\n",
    "\n",
    "nba[(nba['Age']>=30) & (nba['Age']<=35)]\n",
    "\n",
    "nba[(nba['Age']>=30) & (nba['College']=='Duke') & (nba['Weight']<=200)]\n",
    "\n",
    "nba[(nba['Age']>=30) & (nba['College']!='Duke') & (nba['Weight']<=200)]\n",
    "\n",
    "nba[((nba['Age']>=30) & (nba['College']!='Duke')) | (nba['Weight']<=200)]\n",
    "\n",
    "nba[nba['Age'].between(25, 31)]\n",
    "\n",
    "nba[(nba['Age'].between(20, 25)==True) | (nba['Age'].between(35, 40)==True)].sample(10)\n",
    "\n",
    "nba[nba['Age'].between(25, 31, inclusive='both')]\n"
   ]
  },
  {
   "cell_type": "markdown",
   "id": "617bf9a0",
   "metadata": {},
   "source": [
    "#### Handling Unique and Duplicated Values "
   ]
  },
  {
   "cell_type": "code",
   "execution_count": 263,
   "id": "59b1ecc0",
   "metadata": {},
   "outputs": [
    {
     "data": {
      "text/plain": [
       "458"
      ]
     },
     "execution_count": 263,
     "metadata": {},
     "output_type": "execute_result"
    }
   ],
   "source": [
    "nba.duplicated().sum()\n",
    "\n",
    "df = pd.concat([nba, nba])\n",
    "df.shape, nba.shape\n",
    "\n",
    "df.duplicated().sum()"
   ]
  },
  {
   "cell_type": "code",
   "execution_count": 266,
   "id": "4163cfeb",
   "metadata": {},
   "outputs": [
    {
     "data": {
      "text/plain": [
       "5"
      ]
     },
     "execution_count": 266,
     "metadata": {},
     "output_type": "execute_result"
    }
   ],
   "source": [
    "temp = nba.sample(5)\n",
    "df = pd.concat([nba, temp])\n",
    "\n",
    "df.duplicated().sum()"
   ]
  },
  {
   "cell_type": "code",
   "execution_count": 277,
   "id": "dd2e41d0",
   "metadata": {},
   "outputs": [
    {
     "data": {
      "text/plain": [
       "(458, 9)"
      ]
     },
     "execution_count": 277,
     "metadata": {},
     "output_type": "execute_result"
    }
   ],
   "source": [
    "df.shape\n",
    "df[~df.duplicated()]\n",
    "\n",
    "df.drop_duplicates(inplace=True)\n",
    "df.shape"
   ]
  },
  {
   "cell_type": "code",
   "execution_count": 287,
   "id": "534a01d3",
   "metadata": {},
   "outputs": [
    {
     "data": {
      "text/plain": [
       "94"
      ]
     },
     "execution_count": 287,
     "metadata": {},
     "output_type": "execute_result"
    }
   ],
   "source": [
    "nba['College'].duplicated().sum()\n",
    "\n",
    "nba[['Team', 'College']].duplicated().sum()"
   ]
  },
  {
   "cell_type": "code",
   "execution_count": 294,
   "id": "8f37bf6d",
   "metadata": {},
   "outputs": [
    {
     "data": {
      "text/plain": [
       "31"
      ]
     },
     "execution_count": 294,
     "metadata": {},
     "output_type": "execute_result"
    }
   ],
   "source": [
    "nba[['Team', 'College']].value_counts()\n",
    "nba[['Team']].value_counts()\n",
    "\n",
    "nba['Team'].value_counts()\n",
    "\n",
    "len(nba['Team'].unique())"
   ]
  },
  {
   "cell_type": "markdown",
   "id": "d0ed2aae",
   "metadata": {},
   "source": [
    "#### Retrive rows by index label"
   ]
  },
  {
   "cell_type": "code",
   "execution_count": 303,
   "id": "f68f8112",
   "metadata": {},
   "outputs": [
    {
     "data": {
      "text/html": [
       "<div>\n",
       "<style scoped>\n",
       "    .dataframe tbody tr th:only-of-type {\n",
       "        vertical-align: middle;\n",
       "    }\n",
       "\n",
       "    .dataframe tbody tr th {\n",
       "        vertical-align: top;\n",
       "    }\n",
       "\n",
       "    .dataframe thead th {\n",
       "        text-align: right;\n",
       "    }\n",
       "</style>\n",
       "<table border=\"1\" class=\"dataframe\">\n",
       "  <thead>\n",
       "    <tr style=\"text-align: right;\">\n",
       "      <th></th>\n",
       "      <th>Name</th>\n",
       "      <th>Team</th>\n",
       "      <th>Number</th>\n",
       "      <th>Position</th>\n",
       "      <th>Age</th>\n",
       "      <th>Height</th>\n",
       "      <th>Weight</th>\n",
       "      <th>College</th>\n",
       "      <th>Salary</th>\n",
       "    </tr>\n",
       "  </thead>\n",
       "  <tbody>\n",
       "    <tr>\n",
       "      <th>0</th>\n",
       "      <td>Avery Bradley</td>\n",
       "      <td>Boston Celtics</td>\n",
       "      <td>0.0</td>\n",
       "      <td>PG</td>\n",
       "      <td>25.0</td>\n",
       "      <td>6-2</td>\n",
       "      <td>180.0</td>\n",
       "      <td>Texas</td>\n",
       "      <td>7730337.0</td>\n",
       "    </tr>\n",
       "  </tbody>\n",
       "</table>\n",
       "</div>"
      ],
      "text/plain": [
       "            Name            Team  Number Position   Age Height  Weight  \\\n",
       "0  Avery Bradley  Boston Celtics     0.0       PG  25.0    6-2   180.0   \n",
       "\n",
       "  College     Salary  \n",
       "0   Texas  7730337.0  "
      ]
     },
     "execution_count": 303,
     "metadata": {},
     "output_type": "execute_result"
    }
   ],
   "source": [
    "nba.iloc[[10]]\n",
    "nba.iloc[[0,1,2,3,10,12,14]]\n",
    "\n",
    "nba.loc[[0]]"
   ]
  },
  {
   "cell_type": "code",
   "execution_count": 305,
   "id": "b9ee6eb5",
   "metadata": {},
   "outputs": [],
   "source": [
    "nba.set_index('Name', inplace=True)"
   ]
  },
  {
   "cell_type": "code",
   "execution_count": 313,
   "id": "496bb6d9",
   "metadata": {},
   "outputs": [
    {
     "data": {
      "text/plain": [
       "Team        Boston Celtics\n",
       "Number                 0.0\n",
       "Position                PG\n",
       "Age                   25.0\n",
       "Height                 6-2\n",
       "Weight               180.0\n",
       "College              Texas\n",
       "Salary           7730337.0\n",
       "Name: Avery Bradley, dtype: object"
      ]
     },
     "execution_count": 313,
     "metadata": {},
     "output_type": "execute_result"
    }
   ],
   "source": [
    "nba.iloc[0] #Avery Bradley\n",
    "\n",
    "nba.loc['Avery Bradley']"
   ]
  },
  {
   "cell_type": "code",
   "execution_count": 317,
   "id": "bd8f589f",
   "metadata": {},
   "outputs": [
    {
     "data": {
      "text/plain": [
       "True"
      ]
     },
     "execution_count": 317,
     "metadata": {},
     "output_type": "execute_result"
    }
   ],
   "source": [
    "'Avery Bradley' in nba.index"
   ]
  },
  {
   "cell_type": "code",
   "execution_count": 319,
   "id": "68da3721",
   "metadata": {},
   "outputs": [],
   "source": [
    "nba.reset_index(inplace=True)"
   ]
  },
  {
   "cell_type": "code",
   "execution_count": 321,
   "id": "d523e4f7",
   "metadata": {},
   "outputs": [],
   "source": [
    "# nba"
   ]
  },
  {
   "cell_type": "markdown",
   "id": "b454e080",
   "metadata": {},
   "source": [
    "#### Replace Cell Values"
   ]
  },
  {
   "cell_type": "code",
   "execution_count": 341,
   "id": "48a9f0b5",
   "metadata": {},
   "outputs": [],
   "source": [
    "nba['Team'] = nba['Team'].replace('Boston Celtics', 'Boston C.')\n",
    "nba['Name'].replace(['Avery Bradley', 'Jae Crowder'], 'Other Name')\n",
    "\n",
    "nba['Team'] = nba['Team'].replace({'Boston C.':'Boston Celtics', 'Utah Jazz':'UJ'})\n",
    "\n",
    "mask = nba['Team']=='Boston Celtics'\n",
    "nba.loc[mask, 'Team'] = 'Boston C.'"
   ]
  },
  {
   "cell_type": "markdown",
   "id": "289bc69c",
   "metadata": {},
   "source": [
    "#### Rename, Delete Index and Columns"
   ]
  },
  {
   "cell_type": "code",
   "execution_count": 344,
   "id": "08ef6107",
   "metadata": {},
   "outputs": [],
   "source": [
    "nba.set_index('Name', inplace=True)"
   ]
  },
  {
   "cell_type": "code",
   "execution_count": 351,
   "id": "c396a465",
   "metadata": {},
   "outputs": [],
   "source": [
    "nba = nba.rename(index={'Avery Bradley': 'AB', 'Jae Crowder': 'JC'}, columns={'Team': 'Team Name'})"
   ]
  },
  {
   "cell_type": "code",
   "execution_count": 357,
   "id": "4bfca476",
   "metadata": {},
   "outputs": [],
   "source": [
    "nba.drop(['AB', 'JC'])\n",
    "# nba.drop(['Team Name', 'Number'], axis=1, inplace=True)\n",
    "\n",
    "nba = nba.rename(index={'AB':'Avery Bradley', 'JC':'Jae Crowder'}, columns={'Team Name': 'Team'})\n"
   ]
  },
  {
   "cell_type": "code",
   "execution_count": 359,
   "id": "fafecc24",
   "metadata": {},
   "outputs": [],
   "source": [
    "nba.reset_index(inplace=True)"
   ]
  },
  {
   "cell_type": "code",
   "execution_count": 367,
   "id": "669ec92e",
   "metadata": {},
   "outputs": [],
   "source": [
    "nba.drop(0, inplace=True)"
   ]
  },
  {
   "cell_type": "markdown",
   "id": "839f72e7",
   "metadata": {},
   "source": [
    "#### Lambda Apply "
   ]
  },
  {
   "cell_type": "code",
   "execution_count": 383,
   "id": "64bad028",
   "metadata": {},
   "outputs": [
    {
     "data": {
      "text/plain": [
       "1        Jae Crowder Boston C.\n",
       "2       John Holland Boston C.\n",
       "3        R.J. Hunter Boston C.\n",
       "4      Jonas Jerebko Boston C.\n",
       "5       Amir Johnson Boston C.\n",
       "                ...           \n",
       "453            Shelvin Mack UJ\n",
       "454               Raul Neto UJ\n",
       "455            Tibor Pleiss UJ\n",
       "456             Jeff Withey UJ\n",
       "457                        0 0\n",
       "Length: 457, dtype: object"
      ]
     },
     "execution_count": 383,
     "metadata": {},
     "output_type": "execute_result"
    }
   ],
   "source": [
    "nba['Name'] = nba['Name'].astype(str)\n",
    "nba['Name'].apply(len)\n",
    "nba['Name'].apply(lambda x: len(x))\n",
    "\n",
    "def make_double(x):\n",
    "    if type(x)==str:\n",
    "        x = x + \" \" + x\n",
    "        \n",
    "    if type(x)==int:\n",
    "        x = x*2\n",
    "        \n",
    "    return x\n",
    "\n",
    "nba['Name'].apply(lambda x: make_double(x))\n",
    "\n",
    "nba.apply(lambda x: make_double(x['Salary']), axis=1)\n",
    "\n",
    "\n",
    "def combine(x, y):\n",
    "    return x + \" \" + str(y)\n",
    "\n",
    "nba.apply(lambda x: combine(x['Name'], x['Team']), axis=1)"
   ]
  },
  {
   "cell_type": "markdown",
   "id": "11b3b011",
   "metadata": {},
   "source": [
    "#### Groupby"
   ]
  },
  {
   "cell_type": "code",
   "execution_count": 406,
   "id": "130b0c5b",
   "metadata": {},
   "outputs": [
    {
     "name": "stdout",
     "output_type": "stream",
     "text": [
      "\n"
     ]
    }
   ],
   "source": [
    "# nba.info()\n",
    "nba.describe()\n",
    "\n",
    "nba.groupby('Team').mean()\n",
    "nba.groupby('Team').mean().sort_values('Salary', ascending=False)\n",
    "\n",
    "nba.groupby('Team').agg({'Salary': ['mean', 'max', 'min']})\n",
    "\n",
    "nba.groupby('Team').groups.keys()\n",
    "\n",
    "nba.groupby('Team').get_group('Boston C.')\n",
    "\n",
    "print()"
   ]
  },
  {
   "cell_type": "markdown",
   "id": "e08f1e3d",
   "metadata": {},
   "source": [
    "#### Groupby Multiple Columns "
   ]
  },
  {
   "cell_type": "code",
   "execution_count": 419,
   "id": "64b19bf9",
   "metadata": {},
   "outputs": [
    {
     "data": {
      "text/html": [
       "<div>\n",
       "<style scoped>\n",
       "    .dataframe tbody tr th:only-of-type {\n",
       "        vertical-align: middle;\n",
       "    }\n",
       "\n",
       "    .dataframe tbody tr th {\n",
       "        vertical-align: top;\n",
       "    }\n",
       "\n",
       "    .dataframe thead th {\n",
       "        text-align: right;\n",
       "    }\n",
       "</style>\n",
       "<table border=\"1\" class=\"dataframe\">\n",
       "  <thead>\n",
       "    <tr style=\"text-align: right;\">\n",
       "      <th></th>\n",
       "      <th></th>\n",
       "      <th>Number</th>\n",
       "      <th>Age</th>\n",
       "      <th>Weight</th>\n",
       "      <th>Salary</th>\n",
       "    </tr>\n",
       "    <tr>\n",
       "      <th>Team</th>\n",
       "      <th>College</th>\n",
       "      <th></th>\n",
       "      <th></th>\n",
       "      <th></th>\n",
       "      <th></th>\n",
       "    </tr>\n",
       "  </thead>\n",
       "  <tbody>\n",
       "    <tr>\n",
       "      <th>0</th>\n",
       "      <th>Not a College/Unknown</th>\n",
       "      <td>0.0</td>\n",
       "      <td>0.0</td>\n",
       "      <td>0.0</td>\n",
       "      <td>0.0</td>\n",
       "    </tr>\n",
       "    <tr>\n",
       "      <th>Milwaukee Bucks</th>\n",
       "      <th>UNLV</th>\n",
       "      <td>20.0</td>\n",
       "      <td>19.0</td>\n",
       "      <td>202.0</td>\n",
       "      <td>1733040.0</td>\n",
       "    </tr>\n",
       "    <tr>\n",
       "      <th>Detroit Pistons</th>\n",
       "      <th>Arizona</th>\n",
       "      <td>3.0</td>\n",
       "      <td>20.0</td>\n",
       "      <td>245.0</td>\n",
       "      <td>2841960.0</td>\n",
       "    </tr>\n",
       "    <tr>\n",
       "      <th>Indiana Pacers</th>\n",
       "      <th>Texas</th>\n",
       "      <td>33.0</td>\n",
       "      <td>20.0</td>\n",
       "      <td>243.0</td>\n",
       "      <td>2357760.0</td>\n",
       "    </tr>\n",
       "    <tr>\n",
       "      <th>Portland Trail Blazers</th>\n",
       "      <th>Indiana</th>\n",
       "      <td>21.0</td>\n",
       "      <td>20.0</td>\n",
       "      <td>240.0</td>\n",
       "      <td>2637720.0</td>\n",
       "    </tr>\n",
       "    <tr>\n",
       "      <th>...</th>\n",
       "      <th>...</th>\n",
       "      <td>...</td>\n",
       "      <td>...</td>\n",
       "      <td>...</td>\n",
       "      <td>...</td>\n",
       "    </tr>\n",
       "    <tr>\n",
       "      <th>Memphis Grizzlies</th>\n",
       "      <th>Blinn College</th>\n",
       "      <td>7.0</td>\n",
       "      <td>37.0</td>\n",
       "      <td>245.0</td>\n",
       "      <td>5000000.0</td>\n",
       "    </tr>\n",
       "    <tr>\n",
       "      <th>Houston Rockets</th>\n",
       "      <th>Arizona</th>\n",
       "      <td>31.0</td>\n",
       "      <td>38.0</td>\n",
       "      <td>185.0</td>\n",
       "      <td>947276.0</td>\n",
       "    </tr>\n",
       "    <tr>\n",
       "      <th>Los Angeles Clippers</th>\n",
       "      <th>Not a College/Unknown</th>\n",
       "      <td>9.0</td>\n",
       "      <td>39.0</td>\n",
       "      <td>185.0</td>\n",
       "      <td>947726.0</td>\n",
       "    </tr>\n",
       "    <tr>\n",
       "      <th rowspan=\"2\" valign=\"top\">San Antonio Spurs</th>\n",
       "      <th>Wake Forest</th>\n",
       "      <td>21.0</td>\n",
       "      <td>40.0</td>\n",
       "      <td>250.0</td>\n",
       "      <td>5250000.0</td>\n",
       "    </tr>\n",
       "    <tr>\n",
       "      <th>Utah</th>\n",
       "      <td>24.0</td>\n",
       "      <td>40.0</td>\n",
       "      <td>200.0</td>\n",
       "      <td>250750.0</td>\n",
       "    </tr>\n",
       "  </tbody>\n",
       "</table>\n",
       "<p>363 rows × 4 columns</p>\n",
       "</div>"
      ],
      "text/plain": [
       "                                              Number   Age  Weight     Salary\n",
       "Team                   College                                               \n",
       "0                      Not a College/Unknown     0.0   0.0     0.0        0.0\n",
       "Milwaukee Bucks        UNLV                     20.0  19.0   202.0  1733040.0\n",
       "Detroit Pistons        Arizona                   3.0  20.0   245.0  2841960.0\n",
       "Indiana Pacers         Texas                    33.0  20.0   243.0  2357760.0\n",
       "Portland Trail Blazers Indiana                  21.0  20.0   240.0  2637720.0\n",
       "...                                              ...   ...     ...        ...\n",
       "Memphis Grizzlies      Blinn College             7.0  37.0   245.0  5000000.0\n",
       "Houston Rockets        Arizona                  31.0  38.0   185.0   947276.0\n",
       "Los Angeles Clippers   Not a College/Unknown     9.0  39.0   185.0   947726.0\n",
       "San Antonio Spurs      Wake Forest              21.0  40.0   250.0  5250000.0\n",
       "                       Utah                     24.0  40.0   200.0   250750.0\n",
       "\n",
       "[363 rows x 4 columns]"
      ]
     },
     "execution_count": 419,
     "metadata": {},
     "output_type": "execute_result"
    }
   ],
   "source": [
    "nba.groupby(['Team', 'College']).groups.keys()\n",
    "\n",
    "nba.groupby(['Team', 'College']).mean()\n",
    "\n",
    "nba.groupby(['Team', 'College']).agg({'Age': ['mean', 'var', 'max', 'min']})\n",
    "\n",
    "nba.groupby(['Team', 'College']).mean().sort_values(['Age', 'Weight'], ascending=True)\n",
    "nba.groupby(['Team', 'College']).mean().sort_values(['Age', 'Weight'], ascending=[True, False])"
   ]
  },
  {
   "cell_type": "markdown",
   "id": "ac05d8df",
   "metadata": {},
   "source": [
    "#### Merging, Joining, and Concatenation "
   ]
  },
  {
   "attachments": {
    "image.png": {
     "image/png": "[encoded data removed]"
    }
   },
   "cell_type": "markdown",
   "id": "d22647fb",
   "metadata": {},
   "source": [
    "![image.png](attachment:image.png)"
   ]
  },
  {
   "cell_type": "code",
   "execution_count": 439,
   "id": "7585f030",
   "metadata": {},
   "outputs": [],
   "source": [
    "week1 = pd.read_csv('data/Restaurant - Week 1 Sales.csv')\n",
    "week2 = pd.read_csv('data/Restaurant - Week 2 Sales.csv')\n",
    "\n",
    "customers = pd.read_csv('data/Restaurant - Customers.csv')\n",
    "foods = pd.read_csv('data/Restaurant - Foods.csv')"
   ]
  },
  {
   "cell_type": "code",
   "execution_count": 442,
   "id": "5ae425fe",
   "metadata": {},
   "outputs": [
    {
     "name": "stdout",
     "output_type": "stream",
     "text": [
      "week1 Index(['Customer ID', 'Food ID'], dtype='object')\n",
      "week2 Index(['Customer ID', 'Food ID'], dtype='object')\n",
      "customers Index(['ID', 'First Name', 'Last Name', 'Gender', 'Company', 'Occupation'], dtype='object')\n",
      "foods Index(['Food ID', 'Food Item', 'Price'], dtype='object')\n"
     ]
    }
   ],
   "source": [
    "print('week1', week1.columns)\n",
    "print('week2', week2.columns)\n",
    "print('customers', customers.columns)\n",
    "print('foods', foods.columns)\n"
   ]
  },
  {
   "cell_type": "code",
   "execution_count": 447,
   "id": "97aa6e5d",
   "metadata": {},
   "outputs": [],
   "source": [
    "week = pd.concat([week1, week2], ignore_index=True)"
   ]
  },
  {
   "cell_type": "code",
   "execution_count": 450,
   "id": "7f7b8fcb",
   "metadata": {},
   "outputs": [],
   "source": [
    "week_ = pd.concat([week1, week2], ignore_index=True, axis=1)"
   ]
  },
  {
   "cell_type": "code",
   "execution_count": 465,
   "id": "68e82cc6",
   "metadata": {},
   "outputs": [
    {
     "data": {
      "text/html": [
       "<div>\n",
       "<style scoped>\n",
       "    .dataframe tbody tr th:only-of-type {\n",
       "        vertical-align: middle;\n",
       "    }\n",
       "\n",
       "    .dataframe tbody tr th {\n",
       "        vertical-align: top;\n",
       "    }\n",
       "\n",
       "    .dataframe thead th {\n",
       "        text-align: right;\n",
       "    }\n",
       "</style>\n",
       "<table border=\"1\" class=\"dataframe\">\n",
       "  <thead>\n",
       "    <tr style=\"text-align: right;\">\n",
       "      <th></th>\n",
       "      <th>Customer ID</th>\n",
       "      <th>Food ID</th>\n",
       "      <th>First Name</th>\n",
       "      <th>Last Name</th>\n",
       "      <th>Gender</th>\n",
       "      <th>Company</th>\n",
       "      <th>Occupation</th>\n",
       "    </tr>\n",
       "  </thead>\n",
       "  <tbody>\n",
       "    <tr>\n",
       "      <th>0</th>\n",
       "      <td>537</td>\n",
       "      <td>9</td>\n",
       "      <td>Cheryl</td>\n",
       "      <td>Carroll</td>\n",
       "      <td>Female</td>\n",
       "      <td>Zoombeat</td>\n",
       "      <td>Registered Nurse</td>\n",
       "    </tr>\n",
       "    <tr>\n",
       "      <th>1</th>\n",
       "      <td>97</td>\n",
       "      <td>4</td>\n",
       "      <td>Amanda</td>\n",
       "      <td>Watkins</td>\n",
       "      <td>Female</td>\n",
       "      <td>Ozu</td>\n",
       "      <td>Account Coordinator</td>\n",
       "    </tr>\n",
       "    <tr>\n",
       "      <th>2</th>\n",
       "      <td>658</td>\n",
       "      <td>1</td>\n",
       "      <td>Patrick</td>\n",
       "      <td>Webb</td>\n",
       "      <td>Male</td>\n",
       "      <td>Browsebug</td>\n",
       "      <td>Community Outreach Specialist</td>\n",
       "    </tr>\n",
       "    <tr>\n",
       "      <th>3</th>\n",
       "      <td>202</td>\n",
       "      <td>2</td>\n",
       "      <td>Louis</td>\n",
       "      <td>Campbell</td>\n",
       "      <td>Male</td>\n",
       "      <td>Rhynoodle</td>\n",
       "      <td>Account Representative III</td>\n",
       "    </tr>\n",
       "    <tr>\n",
       "      <th>4</th>\n",
       "      <td>155</td>\n",
       "      <td>9</td>\n",
       "      <td>Carolyn</td>\n",
       "      <td>Diaz</td>\n",
       "      <td>Female</td>\n",
       "      <td>Gigazoom</td>\n",
       "      <td>Database Administrator III</td>\n",
       "    </tr>\n",
       "    <tr>\n",
       "      <th>...</th>\n",
       "      <td>...</td>\n",
       "      <td>...</td>\n",
       "      <td>...</td>\n",
       "      <td>...</td>\n",
       "      <td>...</td>\n",
       "      <td>...</td>\n",
       "      <td>...</td>\n",
       "    </tr>\n",
       "    <tr>\n",
       "      <th>245</th>\n",
       "      <td>413</td>\n",
       "      <td>9</td>\n",
       "      <td>Diane</td>\n",
       "      <td>Bailey</td>\n",
       "      <td>Female</td>\n",
       "      <td>Wikibox</td>\n",
       "      <td>Technical Writer</td>\n",
       "    </tr>\n",
       "    <tr>\n",
       "      <th>246</th>\n",
       "      <td>926</td>\n",
       "      <td>6</td>\n",
       "      <td>Anne</td>\n",
       "      <td>Wagner</td>\n",
       "      <td>Female</td>\n",
       "      <td>Skyba</td>\n",
       "      <td>Legal Assistant</td>\n",
       "    </tr>\n",
       "    <tr>\n",
       "      <th>247</th>\n",
       "      <td>134</td>\n",
       "      <td>3</td>\n",
       "      <td>Diana</td>\n",
       "      <td>Hall</td>\n",
       "      <td>Female</td>\n",
       "      <td>Quinu</td>\n",
       "      <td>Financial Advisor</td>\n",
       "    </tr>\n",
       "    <tr>\n",
       "      <th>248</th>\n",
       "      <td>396</td>\n",
       "      <td>6</td>\n",
       "      <td>Juan</td>\n",
       "      <td>Romero</td>\n",
       "      <td>Male</td>\n",
       "      <td>Zoonder</td>\n",
       "      <td>Analyst Programmer</td>\n",
       "    </tr>\n",
       "    <tr>\n",
       "      <th>249</th>\n",
       "      <td>535</td>\n",
       "      <td>10</td>\n",
       "      <td>Nancy</td>\n",
       "      <td>Cox</td>\n",
       "      <td>Female</td>\n",
       "      <td>Trudeo</td>\n",
       "      <td>Research Associate</td>\n",
       "    </tr>\n",
       "  </tbody>\n",
       "</table>\n",
       "<p>250 rows × 7 columns</p>\n",
       "</div>"
      ],
      "text/plain": [
       "     Customer ID  Food ID First Name Last Name  Gender    Company  \\\n",
       "0            537        9     Cheryl   Carroll  Female   Zoombeat   \n",
       "1             97        4     Amanda   Watkins  Female        Ozu   \n",
       "2            658        1    Patrick      Webb    Male  Browsebug   \n",
       "3            202        2      Louis  Campbell    Male  Rhynoodle   \n",
       "4            155        9    Carolyn      Diaz  Female   Gigazoom   \n",
       "..           ...      ...        ...       ...     ...        ...   \n",
       "245          413        9      Diane    Bailey  Female    Wikibox   \n",
       "246          926        6       Anne    Wagner  Female      Skyba   \n",
       "247          134        3      Diana      Hall  Female      Quinu   \n",
       "248          396        6       Juan    Romero    Male    Zoonder   \n",
       "249          535       10      Nancy       Cox  Female     Trudeo   \n",
       "\n",
       "                        Occupation  \n",
       "0                 Registered Nurse  \n",
       "1              Account Coordinator  \n",
       "2    Community Outreach Specialist  \n",
       "3       Account Representative III  \n",
       "4       Database Administrator III  \n",
       "..                             ...  \n",
       "245               Technical Writer  \n",
       "246                Legal Assistant  \n",
       "247              Financial Advisor  \n",
       "248             Analyst Programmer  \n",
       "249             Research Associate  \n",
       "\n",
       "[250 rows x 7 columns]"
      ]
     },
     "execution_count": 465,
     "metadata": {},
     "output_type": "execute_result"
    }
   ],
   "source": [
    "week1.merge(week2) # common cust and food\n",
    "week1.merge(week2, on='Customer ID', suffixes=['-Week1', '-Week2'])\n",
    "\n",
    "week1.merge(week2, on=['Customer ID', 'Food ID'], how='outer')\n",
    "\n",
    "\n",
    "cust_week = week.merge(customers, how='left', left_on='Customer ID', right_on='ID').drop('ID', axis=1)\n",
    "\n",
    "cust_week.merge(foods, how='left', left_on = 'Food ID', right_on='Food ID')\n",
    "\n",
    "\n",
    "week1.join(customers.set_index('ID'), on = 'Customer ID')"
   ]
  },
  {
   "cell_type": "markdown",
   "id": "2eedf4a9",
   "metadata": {},
   "source": [
    "#### Working with Datetime "
   ]
  },
  {
   "cell_type": "code",
   "execution_count": 466,
   "id": "85cdbbc3",
   "metadata": {},
   "outputs": [],
   "source": [
    "import datetime as dt"
   ]
  },
  {
   "cell_type": "code",
   "execution_count": 475,
   "id": "40ec0126",
   "metadata": {},
   "outputs": [
    {
     "data": {
      "text/plain": [
       "'2019-10-21'"
      ]
     },
     "execution_count": 475,
     "metadata": {},
     "output_type": "execute_result"
    }
   ],
   "source": [
    "someday = dt.date(2019, 10, 21) #YYYY-MM-DD\n",
    "someday.year, someday.month, someday.day\n",
    "\n",
    "str(someday)"
   ]
  },
  {
   "cell_type": "code",
   "execution_count": 480,
   "id": "aa818d54",
   "metadata": {},
   "outputs": [
    {
     "data": {
      "text/plain": [
       "Timestamp('2019-10-21 01:13:21')"
      ]
     },
     "execution_count": 480,
     "metadata": {},
     "output_type": "execute_result"
    }
   ],
   "source": [
    "someday = pd.to_datetime('2019-10-21') #YYYY-MM-DD\n",
    "someday.year,someday.month, someday.day\n",
    "\n",
    "pd.Timestamp('2019-10-21 01:13:21')"
   ]
  },
  {
   "cell_type": "code",
   "execution_count": 481,
   "id": "ca8394a5",
   "metadata": {},
   "outputs": [
    {
     "data": {
      "text/plain": [
       "DatetimeIndex(['2023-10-01', '2023-10-02', '2023-10-03'], dtype='datetime64[ns]', freq=None)"
      ]
     },
     "execution_count": 481,
     "metadata": {},
     "output_type": "execute_result"
    }
   ],
   "source": [
    "dates = ['2023-10-01', '2023-10-02', '2023-10-03']\n",
    "pd.to_datetime(dates)"
   ]
  },
  {
   "cell_type": "code",
   "execution_count": 487,
   "id": "19bc3e85",
   "metadata": {},
   "outputs": [
    {
     "data": {
      "text/plain": [
       "DatetimeIndex(['2023-10-01', '2023-10-02', '2023-10-03', 'NaT'], dtype='datetime64[ns]', freq=None)"
      ]
     },
     "execution_count": 487,
     "metadata": {},
     "output_type": "execute_result"
    }
   ],
   "source": [
    "dates = ['2023-10-01', '2023-10-02', '2023-10-03', 'fasdfwrt']\n",
    "pd.to_datetime(dates, errors='coerce')"
   ]
  },
  {
   "cell_type": "code",
   "execution_count": 491,
   "id": "78a537a4",
   "metadata": {},
   "outputs": [
    {
     "data": {
      "text/plain": [
       "DatetimeIndex(['2023-10-31'], dtype='datetime64[ns]', freq='M')"
      ]
     },
     "execution_count": 491,
     "metadata": {},
     "output_type": "execute_result"
    }
   ],
   "source": [
    "pd.date_range('2023-10-01', '2023-11-20', freq='M')"
   ]
  },
  {
   "cell_type": "code",
   "execution_count": 496,
   "id": "18e88b5b",
   "metadata": {},
   "outputs": [
    {
     "data": {
      "text/plain": [
       "DatetimeIndex(['2023-11-30', '2023-12-31', '2024-01-31', '2024-02-29',\n",
       "               '2024-03-31', '2024-04-30', '2024-05-31', '2024-06-30',\n",
       "               '2024-07-31', '2024-08-31'],\n",
       "              dtype='datetime64[ns]', freq='M')"
      ]
     },
     "execution_count": 496,
     "metadata": {},
     "output_type": "execute_result"
    }
   ],
   "source": [
    "pd.date_range('2023-11-20', periods=10, freq='M')"
   ]
  },
  {
   "cell_type": "markdown",
   "id": "44473c19",
   "metadata": {},
   "source": [
    "#### Read Stock Data from `YAHOO` Finance "
   ]
  },
  {
   "cell_type": "code",
   "execution_count": 498,
   "id": "ba47be01",
   "metadata": {},
   "outputs": [],
   "source": [
    "# !pip install pandas_datareader"
   ]
  },
  {
   "cell_type": "code",
   "execution_count": 499,
   "id": "655bae05",
   "metadata": {},
   "outputs": [],
   "source": [
    "import pandas_datareader.data as web"
   ]
  },
  {
   "cell_type": "code",
   "execution_count": 501,
   "id": "58bc03f8",
   "metadata": {},
   "outputs": [],
   "source": [
    "start = pd.to_datetime('2022-10-01')\n",
    "end = pd.to_datetime('2022-10-31')\n",
    "\n",
    "data = web.DataReader('TSLA', 'yahoo', start, end)"
   ]
  },
  {
   "cell_type": "code",
   "execution_count": 503,
   "id": "adcfd428",
   "metadata": {},
   "outputs": [
    {
     "data": {
      "text/html": [
       "<div>\n",
       "<style scoped>\n",
       "    .dataframe tbody tr th:only-of-type {\n",
       "        vertical-align: middle;\n",
       "    }\n",
       "\n",
       "    .dataframe tbody tr th {\n",
       "        vertical-align: top;\n",
       "    }\n",
       "\n",
       "    .dataframe thead th {\n",
       "        text-align: right;\n",
       "    }\n",
       "</style>\n",
       "<table border=\"1\" class=\"dataframe\">\n",
       "  <thead>\n",
       "    <tr style=\"text-align: right;\">\n",
       "      <th></th>\n",
       "      <th>High</th>\n",
       "      <th>Low</th>\n",
       "      <th>Open</th>\n",
       "      <th>Close</th>\n",
       "      <th>Volume</th>\n",
       "      <th>Adj Close</th>\n",
       "    </tr>\n",
       "  </thead>\n",
       "  <tbody>\n",
       "    <tr>\n",
       "      <th>count</th>\n",
       "      <td>22.000000</td>\n",
       "      <td>22.000000</td>\n",
       "      <td>22.000000</td>\n",
       "      <td>22.000000</td>\n",
       "      <td>2.200000e+01</td>\n",
       "      <td>22.000000</td>\n",
       "    </tr>\n",
       "    <tr>\n",
       "      <th>mean</th>\n",
       "      <td>231.869548</td>\n",
       "      <td>219.526819</td>\n",
       "      <td>226.036363</td>\n",
       "      <td>225.694092</td>\n",
       "      <td>8.195408e+07</td>\n",
       "      <td>225.694092</td>\n",
       "    </tr>\n",
       "    <tr>\n",
       "      <th>std</th>\n",
       "      <td>15.408505</td>\n",
       "      <td>15.396451</td>\n",
       "      <td>16.636756</td>\n",
       "      <td>14.120963</td>\n",
       "      <td>1.584364e+07</td>\n",
       "      <td>14.120963</td>\n",
       "    </tr>\n",
       "    <tr>\n",
       "      <th>min</th>\n",
       "      <td>213.500000</td>\n",
       "      <td>198.589996</td>\n",
       "      <td>205.820007</td>\n",
       "      <td>204.990005</td>\n",
       "      <td>6.155430e+07</td>\n",
       "      <td>204.990005</td>\n",
       "    </tr>\n",
       "    <tr>\n",
       "      <th>25%</th>\n",
       "      <td>222.944996</td>\n",
       "      <td>209.587498</td>\n",
       "      <td>211.407505</td>\n",
       "      <td>217.767506</td>\n",
       "      <td>6.823185e+07</td>\n",
       "      <td>217.767506</td>\n",
       "    </tr>\n",
       "    <tr>\n",
       "      <th>50%</th>\n",
       "      <td>227.925003</td>\n",
       "      <td>217.514999</td>\n",
       "      <td>223.969994</td>\n",
       "      <td>222.690002</td>\n",
       "      <td>7.822100e+07</td>\n",
       "      <td>222.690002</td>\n",
       "    </tr>\n",
       "    <tr>\n",
       "      <th>75%</th>\n",
       "      <td>234.380005</td>\n",
       "      <td>222.642506</td>\n",
       "      <td>232.897503</td>\n",
       "      <td>228.275002</td>\n",
       "      <td>9.346412e+07</td>\n",
       "      <td>228.275002</td>\n",
       "    </tr>\n",
       "    <tr>\n",
       "      <th>max</th>\n",
       "      <td>275.570007</td>\n",
       "      <td>262.470001</td>\n",
       "      <td>266.149994</td>\n",
       "      <td>265.250000</td>\n",
       "      <td>1.177981e+08</td>\n",
       "      <td>265.250000</td>\n",
       "    </tr>\n",
       "  </tbody>\n",
       "</table>\n",
       "</div>"
      ],
      "text/plain": [
       "             High         Low        Open       Close        Volume  \\\n",
       "count   22.000000   22.000000   22.000000   22.000000  2.200000e+01   \n",
       "mean   231.869548  219.526819  226.036363  225.694092  8.195408e+07   \n",
       "std     15.408505   15.396451   16.636756   14.120963  1.584364e+07   \n",
       "min    213.500000  198.589996  205.820007  204.990005  6.155430e+07   \n",
       "25%    222.944996  209.587498  211.407505  217.767506  6.823185e+07   \n",
       "50%    227.925003  217.514999  223.969994  222.690002  7.822100e+07   \n",
       "75%    234.380005  222.642506  232.897503  228.275002  9.346412e+07   \n",
       "max    275.570007  262.470001  266.149994  265.250000  1.177981e+08   \n",
       "\n",
       "        Adj Close  \n",
       "count   22.000000  \n",
       "mean   225.694092  \n",
       "std     14.120963  \n",
       "min    204.990005  \n",
       "25%    217.767506  \n",
       "50%    222.690002  \n",
       "75%    228.275002  \n",
       "max    265.250000  "
      ]
     },
     "execution_count": 503,
     "metadata": {},
     "output_type": "execute_result"
    }
   ],
   "source": [
    "data.describe()"
   ]
  },
  {
   "cell_type": "code",
   "execution_count": null,
   "id": "d8e5b74c",
   "metadata": {},
   "outputs": [],
   "source": []
  },
  {
   "cell_type": "code",
   "execution_count": null,
   "id": "ac61276f",
   "metadata": {},
   "outputs": [],
   "source": []
  },
  {
   "attachments": {},
   "cell_type": "markdown",
   "id": "f466a329",
   "metadata": {},
   "source": [
    "# Other Resources\n",
    "|  ML Course | Description |\n",
    "|:---|:---|\n",
    "| [**Data Visualization in Python Masterclass™: Beginners to Pro**](https://bit.ly/udemy95off_kgptalkie) |  Learn to build Machine Learning and Deep Learning models using Python and its libraries like Scikit-Learn, Keras, and TensorFlow. |\n",
    "| [**Python for Machine Learning: A Step-by-Step Guide**](https://bit.ly/ml-ds-project) | Learn to build Machine Learning and Deep Learning models using Python and its libraries like Scikit-Learn, Keras, and TensorFlow. |\n",
    "| [**Python for Linear Regression in Machine Learning**](https://bit.ly/regression-python) | Learn to build Linear Regression models using Python and its libraries like Scikit-Learn. |\n",
    "| [**Introduction to Spacy 3 for Natural Language Processing**](https://bit.ly/spacy-intro) | Learn to build Natural Language Processing models using Python and its libraries like Spacy. |\n",
    "| [**Advanced Machine Learning and Deep Learning Projects**](https://bit.ly/kgptalkie_ml_projects) | Learn to build Advanced Machine Learning and Deep Learning models using Python and transformer models like BERT, GPT-2, and XLNet. |\n",
    "| [**Natural Language Processing in Python for Beginners**](https://bit.ly/intro_nlp) | Learn to build Natural Language Processing Projects using Spacy, NLTK, and Gensim, and transformer models like BERT, GPT-2, and XLNet. |\n",
    "| [**Deployment of Machine Learning Models in Production in Python**](https://bit.ly/bert_nlp) |  Learn to deploy Machine Learning and Deep Learning models using Python and its libraries like Flask, Streamlit, and NGINX. |\n",
    "| [**R 4.0 Programming for Data Science - Beginners to Pro**](https://bit.ly/r4-ml) | Learn to build Machine Learning and Deep Learning models using R and its libraries like caret, tidyverse, and keras. |\n"
   ]
  }
 ],
 "metadata": {
  "kernelspec": {
   "display_name": "base",
   "language": "python",
   "name": "python3"
  },
  "language_info": {
   "codemirror_mode": {
    "name": "ipython",
    "version": 3
   },
   "file_extension": ".py",
   "mimetype": "text/x-python",
   "name": "python",
   "nbconvert_exporter": "python",
   "pygments_lexer": "ipython3",
   "version": "3.9.12 (main, Apr  4 2022, 05:22:27) [MSC v.1916 64 bit (AMD64)]"
  },
  "vscode": {
   "interpreter": {
    "hash": "1c559bdd7b754ece9e8e368b13568ddb0f2d10662da44815ae704e790d52c5c0"
   }
  }
 },
 "nbformat": 4,
 "nbformat_minor": 5
}
